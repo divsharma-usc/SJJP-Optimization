{
 "cells": [
  {
   "cell_type": "code",
   "execution_count": 32,
   "metadata": {},
   "outputs": [],
   "source": [
    "import sys\n",
    "import random\n",
    "import copy\n",
    "import math\n",
    "from matplotlib import pyplot as plt\n",
    "INT_MAX = sys.maxsize"
   ]
  },
  {
   "cell_type": "code",
   "execution_count": 68,
   "metadata": {},
   "outputs": [
    {
     "name": "stdout",
     "output_type": "stream",
     "text": [
      "Enter the number of jobs : 20\n",
      "Enter the number of machines : 15\n",
      "Enter the processing time matrix : 25 75 75 76 38 62 38 59 14 13 46 31 57 92 3 67 5 11 11 40 34 77 42 35 96 22 55 21 29 16 22 98 8 35 59 31 13 46 52 22 18 19 64 29 70 99 42 2 35 11 92 88 97 21 56 17 43 27 19 23 50 5 59 71 47 39 82 35 12 2 39 42 52 65 35 48 57 5 2 60 64 86 3 51 26 34 39 45 63 54 40 43 50 71 46 99 67 34 6 95 67 54 29 30 60 59 3 85 6 46 49 5 82 18 71 48 79 62 65 76 65 55 81 15 32 52 97 69 82 89 69 87 22 71 63 70 74 52 94 14 81 24 14 32 39 67 59 18 77 50 18 6 96 53 35 99 39 18 14 90 64 81 89 48 80 44 75 12 13 74 59 71 75 30 93 26 30 84 91 93 39 56 13 29 55 69 26 7 55 48 22 46 50 96 17 57 14 8 13 95 53 78 24 92 90 68 87 43 75 94 93 92 18 28 27 40 56 83 51 15 97 48 53 78 39 47 34 42 28 11 11 30 14 10 4 20 92 19 59 28 69 82 64 40 27 82 27 43 56 17 18 20 98 43 68 84 26 87 61 95 23 88 89 49 84 12 51 3 44 20 43 54 18 72 70 28 20 22 59 36 85 13 73 29 45 7 97 4 22 74 45 62 95 66 14 40 23 79 34 8\n",
      "Enter the ordering matrix : 4 12 15 2 11 3 5 8 1 13 6 10 7 14 9 6 1 4 9 5 2 13 15 7 8 11 3 10 14 12 3 4 15 1 10 13 6 5 8 11 9 12 14 2 7 9 11 2 14 4 5 15 10 3 6 12 8 1 7 13 15 9 2 3 11 10 13 5 7 6 1 14 4 12 8 4 11 2 6 7 1 9 8 12 14 3 15 13 10 5 3 11 2 13 9 1 8 7 15 14 5 4 6 10 12 2 1 3 5 8 14 12 4 13 6 7 15 10 9 11 5 6 10 11 8 7 3 2 13 4 14 1 9 15 12 2 5 4 11 15 1 7 14 12 9 6 13 8 10 3 4 11 2 1 10 9 15 7 5 8 3 13 6 12 14 3 8 7 9 4 6 15 5 2 1 10 11 14 12 13 1 8 15 9 13 11 10 4 7 2 5 3 12 14 6 13 4 10 5 2 1 11 7 6 3 15 14 8 9 12 4 15 7 6 14 10 2 1 13 8 3 5 11 9 12 6 15 7 13 9 3 5 10 12 14 4 2 8 1 11 4 8 11 15 1 9 2 12 6 14 5 13 7 10 3 11 9 3 12 14 7 15 4 10 8 5 6 13 1 2 4 3 13 14 2 7 15 6 5 9 10 12 1 11 8 12 15 6 7 11 10 14 2 5 9 1 4 13 3 8\n",
      "\n",
      "----- PROCESSING MATRIX -----\n",
      "[[25, 75, 75, 76, 38, 62, 38, 59, 14, 13, 46, 31, 57, 92, 3], [67, 5, 11, 11, 40, 34, 77, 42, 35, 96, 22, 55, 21, 29, 16], [22, 98, 8, 35, 59, 31, 13, 46, 52, 22, 18, 19, 64, 29, 70], [99, 42, 2, 35, 11, 92, 88, 97, 21, 56, 17, 43, 27, 19, 23], [50, 5, 59, 71, 47, 39, 82, 35, 12, 2, 39, 42, 52, 65, 35], [48, 57, 5, 2, 60, 64, 86, 3, 51, 26, 34, 39, 45, 63, 54], [40, 43, 50, 71, 46, 99, 67, 34, 6, 95, 67, 54, 29, 30, 60], [59, 3, 85, 6, 46, 49, 5, 82, 18, 71, 48, 79, 62, 65, 76], [65, 55, 81, 15, 32, 52, 97, 69, 82, 89, 69, 87, 22, 71, 63], [70, 74, 52, 94, 14, 81, 24, 14, 32, 39, 67, 59, 18, 77, 50], [18, 6, 96, 53, 35, 99, 39, 18, 14, 90, 64, 81, 89, 48, 80], [44, 75, 12, 13, 74, 59, 71, 75, 30, 93, 26, 30, 84, 91, 93], [39, 56, 13, 29, 55, 69, 26, 7, 55, 48, 22, 46, 50, 96, 17], [57, 14, 8, 13, 95, 53, 78, 24, 92, 90, 68, 87, 43, 75, 94], [93, 92, 18, 28, 27, 40, 56, 83, 51, 15, 97, 48, 53, 78, 39], [47, 34, 42, 28, 11, 11, 30, 14, 10, 4, 20, 92, 19, 59, 28], [69, 82, 64, 40, 27, 82, 27, 43, 56, 17, 18, 20, 98, 43, 68], [84, 26, 87, 61, 95, 23, 88, 89, 49, 84, 12, 51, 3, 44, 20], [43, 54, 18, 72, 70, 28, 20, 22, 59, 36, 85, 13, 73, 29, 45], [7, 97, 4, 22, 74, 45, 62, 95, 66, 14, 40, 23, 79, 34, 8]]\n",
      "\n",
      "----- ODERING MATRIX -----\n",
      "[[4, 12, 15, 2, 11, 3, 5, 8, 1, 13, 6, 10, 7, 14, 9], [6, 1, 4, 9, 5, 2, 13, 15, 7, 8, 11, 3, 10, 14, 12], [3, 4, 15, 1, 10, 13, 6, 5, 8, 11, 9, 12, 14, 2, 7], [9, 11, 2, 14, 4, 5, 15, 10, 3, 6, 12, 8, 1, 7, 13], [15, 9, 2, 3, 11, 10, 13, 5, 7, 6, 1, 14, 4, 12, 8], [4, 11, 2, 6, 7, 1, 9, 8, 12, 14, 3, 15, 13, 10, 5], [3, 11, 2, 13, 9, 1, 8, 7, 15, 14, 5, 4, 6, 10, 12], [2, 1, 3, 5, 8, 14, 12, 4, 13, 6, 7, 15, 10, 9, 11], [5, 6, 10, 11, 8, 7, 3, 2, 13, 4, 14, 1, 9, 15, 12], [2, 5, 4, 11, 15, 1, 7, 14, 12, 9, 6, 13, 8, 10, 3], [4, 11, 2, 1, 10, 9, 15, 7, 5, 8, 3, 13, 6, 12, 14], [3, 8, 7, 9, 4, 6, 15, 5, 2, 1, 10, 11, 14, 12, 13], [1, 8, 15, 9, 13, 11, 10, 4, 7, 2, 5, 3, 12, 14, 6], [13, 4, 10, 5, 2, 1, 11, 7, 6, 3, 15, 14, 8, 9, 12], [4, 15, 7, 6, 14, 10, 2, 1, 13, 8, 3, 5, 11, 9, 12], [6, 15, 7, 13, 9, 3, 5, 10, 12, 14, 4, 2, 8, 1, 11], [4, 8, 11, 15, 1, 9, 2, 12, 6, 14, 5, 13, 7, 10, 3], [11, 9, 3, 12, 14, 7, 15, 4, 10, 8, 5, 6, 13, 1, 2], [4, 3, 13, 14, 2, 7, 15, 6, 5, 9, 10, 12, 1, 11, 8], [12, 15, 6, 7, 11, 10, 14, 2, 5, 9, 1, 4, 13, 3, 8]]\n"
     ]
    }
   ],
   "source": [
    "n = int(input('Enter the number of jobs : '))\n",
    "m = int(input('Enter the number of machines : '))\n",
    "processing_time_matrix = []\n",
    "ordering_matrix = []\n",
    "\n",
    "ptm = input('Enter the processing time matrix : ')\n",
    "om = input('Enter the ordering matrix : ')\n",
    "\n",
    "#IMPLEMENTING G&T ALGORITHM\n",
    "\n",
    "ptm = ptm.split(' ')\n",
    "om = om.split(' ')\n",
    "\n",
    "k=0\n",
    "for i in range(0,n):\n",
    "    temp = []\n",
    "    for j in range(0,m):\n",
    "        processing_time = int(ptm[k])\n",
    "        temp.append(processing_time)\n",
    "        k=k+1\n",
    "    processing_time_matrix.append(temp)\n",
    "\n",
    "k=0\n",
    "for i in range(0,n):\n",
    "    temp = []\n",
    "    for j in range(0,m):\n",
    "        order = int(om[k])\n",
    "        temp.append(order)\n",
    "        k=k+1\n",
    "    ordering_matrix.append(temp)\n",
    "\n",
    "print()\n",
    "print('----- PROCESSING MATRIX -----')\n",
    "print(processing_time_matrix)\n",
    "\n",
    "print()\n",
    "print('----- ODERING MATRIX -----')\n",
    "print(ordering_matrix)\n"
   ]
  },
  {
   "cell_type": "code",
   "execution_count": 69,
   "metadata": {},
   "outputs": [],
   "source": [
    "def make_population():\n",
    "    \n",
    "    S= []\n",
    "    curr_time = 0\n",
    "    \n",
    "    #STEP 1\n",
    "    set_A = []\n",
    "    for i in range(0,n):\n",
    "        for j in range(0,m):\n",
    "            if ordering_matrix[i][j] == 1:\n",
    "                set_A.append([0,i,j])\n",
    "    \n",
    "    while len(set_A) != 0:\n",
    "        #STEP 2\n",
    "        length_A = len(set_A)\n",
    "        min_value = INT_MAX\n",
    "        for i in range(0,length_A):\n",
    "            a = set_A[i][1]\n",
    "            b = set_A[i][2]\n",
    "            processing_time = processing_time_matrix[a][b]\n",
    "            if set_A[i][0] + processing_time < min_value:\n",
    "                min_value = set_A[i][0] + processing_time\n",
    "        #STEP 3\n",
    "        M = []\n",
    "        for i in range(0,length_A):\n",
    "            if set_A[i][0] < min_value:\n",
    "                M.append(set_A[i][2])\n",
    "        #STEP 4\n",
    "        G = []\n",
    "        set_machines = set(M)\n",
    "        random_machine = random.randint(0,len(set_machines)-1)\n",
    "        random_machine = M[random_machine]\n",
    "        for i in range(0,length_A):\n",
    "            if set_A[i][2] == random_machine:\n",
    "                G.append(set_A[i])\n",
    "            \n",
    "        #STEP 5\n",
    "        length_G = len(G)\n",
    "        max_earlist_time = 0\n",
    "        element = []\n",
    "        for i in range(0,length_G):\n",
    "            if G[i][2] == random_machine:\n",
    "                earlist_time = 0\n",
    "                b = random_machine\n",
    "                a = G[i][1]\n",
    "                order_number = ordering_matrix[a][b]\n",
    "                for j in range(0,m):\n",
    "                    if ordering_matrix[a][j] >= order_number:\n",
    "                        earlist_time = earlist_time + processing_time_matrix[a][j]\n",
    "                if earlist_time > max_earlist_time:\n",
    "                    max_earlist_time = earlist_time\n",
    "                    element = G[i]\n",
    "            \n",
    "        S.append(element[1])\n",
    "        curr_time = curr_time + processing_time_matrix[element[1]][random_machine]\n",
    "        next_order_number = ordering_matrix[element[1]][random_machine]+1\n",
    "\n",
    "        for k in range(0,m):\n",
    "            if ordering_matrix[element[1]][k] == next_order_number:\n",
    "                set_A.append([curr_time,element[1],k])\n",
    "        set_A.remove(element)\n",
    "        G.remove(element)\n",
    "    return S"
   ]
  },
  {
   "cell_type": "code",
   "execution_count": 70,
   "metadata": {},
   "outputs": [
    {
     "name": "stdout",
     "output_type": "stream",
     "text": [
      "Enter the population size : 5\n"
     ]
    }
   ],
   "source": [
    "population_size = int(input('Enter the population size : '))\n",
    "population = []\n",
    "for i in range(0,population_size):\n",
    "    population.append(make_population())"
   ]
  },
  {
   "cell_type": "code",
   "execution_count": 71,
   "metadata": {},
   "outputs": [],
   "source": [
    "def changeToReal(population):\n",
    "    n = len(population)\n",
    "    m = len(population[0])\n",
    "    for i in range(0,n):\n",
    "        for j in range(0,m):\n",
    "            population[i][j] = round(population[i][j] +random.random(),5)\n",
    "    return population"
   ]
  },
  {
   "cell_type": "code",
   "execution_count": 72,
   "metadata": {},
   "outputs": [],
   "source": [
    "real_population = changeToReal(population)"
   ]
  },
  {
   "cell_type": "code",
   "execution_count": 73,
   "metadata": {},
   "outputs": [
    {
     "name": "stdout",
     "output_type": "stream",
     "text": [
      "Enter the number of iterations of IPSO : 5\n"
     ]
    }
   ],
   "source": [
    "number_iterations = int(input('Enter the number of iterations of IPSO : '))"
   ]
  },
  {
   "cell_type": "code",
   "execution_count": 74,
   "metadata": {},
   "outputs": [],
   "source": [
    "def calculateMakeSpan(schedule):\n",
    "    job_schedule = []\n",
    "    machine_free = []\n",
    "    operation_no = []\n",
    "    \n",
    "    for i in range(0,n):\n",
    "        job_schedule.append(0)\n",
    "        operation_no.append(0)\n",
    "    \n",
    "    for i in range(0,m):\n",
    "        machine_free.append(0)\n",
    "    \n",
    "    timer = 0\n",
    "    \n",
    "    while(True):\n",
    "        flag = True\n",
    "        \n",
    "        for s in schedule:\n",
    "            if s != -1:\n",
    "                flag = False\n",
    "       \n",
    "        if flag == True:\n",
    "            break\n",
    "        \n",
    "        for i in range(0,len(schedule)):\n",
    "            s = int(schedule[i])\n",
    "            if s != -1:\n",
    "                if timer > job_schedule[s]:\n",
    "                    machine = int(findMachine(s,operation_no[s]+1))\n",
    "                    if timer > machine_free[machine]:\n",
    "                        machine_free[machine] = timer + processing_time_matrix[s][machine]\n",
    "                        job_schedule[s] = timer + processing_time_matrix[s][machine]\n",
    "                        schedule[i] = -1\n",
    "                        operation_no[s] = operation_no[s]+1\n",
    "        timer = timer+1\n",
    "        \n",
    "    makespan = 0\n",
    "    for i in job_schedule:\n",
    "        if i > makespan:\n",
    "            makespan = i\n",
    "    return makespan\n",
    "\n",
    "def findMachine(s,on):\n",
    "    for j in range(0,m):\n",
    "        if ordering_matrix[s][j] == on:\n",
    "            return j\n",
    "    return 1    "
   ]
  },
  {
   "cell_type": "code",
   "execution_count": 86,
   "metadata": {},
   "outputs": [],
   "source": [
    "def isValid(schedule):\n",
    "    jobs = []\n",
    "    for i in range(0,n):\n",
    "        jobs.append(0)\n",
    "    for s in schedule:\n",
    "        temp = int(s)\n",
    "        jobs[temp] = jobs[temp]+1\n",
    "    for i in range(0,n):\n",
    "        if jobs[i] != m:\n",
    "            print(jobs)\n",
    "            return False\n",
    "    return True"
   ]
  },
  {
   "cell_type": "code",
   "execution_count": 84,
   "metadata": {},
   "outputs": [
    {
     "name": "stdout",
     "output_type": "stream",
     "text": [
      "[13169, 13169, 13169, 13169, 13169]\n",
      "13169\n",
      "[19.77179, 11.55136, 13.9799, 10.66137, 6.59847, 12.28088, 4.72593, 9.45186, 11.4575, 2.50819, 8.12873, 5.85122, 7.35771, 3.74049, 13.39564, 8.58445, 1.74086, 17.41703, 16.12071, 2.95415, 0.13058, 14.55398, 15.07268, 18.39889, 19.94638, 10.80119, 13.67109, 12.43213, 6.67309, 3.95769, 4.9923, 7.33167, 11.86697, 9.88034, 7.48033, 5.24316, 1.13905, 8.76685, 17.50623, 14.39518, 16.71799, 0.74842, 6.1413, 2.57167, 6.54023, 11.40227, 12.72057, 18.75549, 1.22899, 15.79607, 19.60396, 10.15936, 13.58353, 3.78269, 13.66528, 4.27729, 16.06739, 9.13546, 11.53643, 14.04425, 7.70121, 5.78776, 8.09913, 17.88046, 0.6469, 6.75757, 18.8265, 2.76375, 17.0077, 12.05851, 9.23033, 1.70888, 11.19981, 15.71389, 19.20563, 16.27917, 10.71892, 3.89369, 6.08915, 13.78937, 4.93612, 7.18611, 8.31992, 14.2543, 0.66536, 5.86219, 18.42159, 13.22691, 6.23945, 4.03811, 2.86239, 17.21661, 16.35221, 12.51396, 1.93866, 8.87175, 11.38033, 9.63512, 9.8011, 15.96741, 10.70944, 16.13446, 19.87143, 3.7658, 7.65216, 0.90172, 17.84067, 14.00525, 18.54993, 5.05236, 10.30533, 13.67365, 3.38088, 6.51921, 4.53431, 9.90598, 2.56606, 12.67209, 17.68572, 1.38872, 11.71105, 8.18794, 15.18937, 16.95854, 19.77188, 0.23546, 7.33702, 14.64699, 10.43735, 18.31273, 5.65804, 13.34629, 3.43241, 12.1525, 8.20217, 4.82656, 5.30937, 4.01033, 0.07656, 8.55461, 9.42225, 7.0063, 6.71247, 2.34343, 17.06505, 1.64801, 11.69657, 15.54857, 17.45797, 19.07126, 12.06686, 16.9522, 14.64564, 10.28962, 10.01305, 18.49793, 13.7437, 3.7998, 0.13335, 5.20654, 4.62432, 8.08668, 14.27917, 9.51321, 14.20635, 7.55082, 6.60637, 17.88554, 2.34422, 1.29176, 11.82062, 15.47303, 19.41083, 12.39234, 4.16032, 16.73868, 10.97934, 0.79274, 13.21168, 18.25989, 3.22057, 5.78562, 8.72176, 9.44111, 14.54498, 7.71803, 6.1005, 17.10736, 2.04915, 17.57574, 1.31355, 11.08768, 19.52756, 14.0072, 1.20095, 17.57478, 15.6227, 12.89272, 4.58698, 11.53231, 0.85217, 5.07841, 4.40997, 10.57176, 10.29566, 16.36464, 18.13349, 13.35396, 3.45123, 8.72259, 9.84477, 11.06896, 6.16125, 7.88869, 0.0615, 2.67469, 19.52932, 19.19619, 18.01232, 17.07253, 1.27635, 14.08602, 15.23449, 12.48526, 0.46286, 5.77746, 4.89061, 10.07116, 16.51606, 19.44979, 13.06174, 3.60685, 8.88632, 14.7516, 5.02388, 9.16145, 19.33829, 6.29234, 12.88669, 11.95455, 19.03748, 7.91882, 0.64391, 2.86729, 0.91321, 18.33834, 17.68585, 1.69314, 16.35804, 15.58905, 13.88097, 18.41563, 2.35408, 4.30784, 10.85644, 3.84571, 12.4708, 8.55938, 14.27536, 9.59538, 5.79897, 6.6134, 19.69572, 1.77484, 11.99795, 7.05795, 18.41631, 0.73466, 16.0549, 3.20248, 15.0354, 7.03706, 2.83572, 13.9241, 4.38589, 10.15975, 12.04722, 14.47415, 8.34474, 9.04222, 5.83886, 15.41788, 6.62497, 1.34501, 3.36934, 18.45432, 16.72069, 2.45615, 7.26538, 12.43804, 9.41763, 5.06339, 15.73205, 1.10402, 3.72183, 18.69932, 16.63463, 2.7356, 15.39051, 15.01307]\n"
     ]
    }
   ],
   "source": [
    "#START To IMPLEMENT IPSO\n",
    "p_best_span = []\n",
    "p_best = population[:]\n",
    "R = []\n",
    "g_best_span = INT_MAX\n",
    "g_best =[]\n",
    "for p in population:\n",
    "    make_span = calculateMakeSpan(p[:])\n",
    "    p_best_span.append(make_span)\n",
    "    if make_span < g_best_span:\n",
    "        g_best_span = make_span\n",
    "        g_best = p[:]\n",
    "    R.append(findR(p[:],g_best[:]))\n",
    "print(p_best_span)\n",
    "print(g_best_span)\n",
    "print(g_best)"
   ]
  },
  {
   "cell_type": "code",
   "execution_count": 77,
   "metadata": {},
   "outputs": [],
   "source": [
    "def findR(p_best,g_best):\n",
    "    rand1 = round(random.random(),5)\n",
    "    rand2 = round(random.random(),5)\n",
    "    c1 = c2 = 1.4\n",
    "    alpha = 0.5\n",
    "    temp = []\n",
    "    for i in range(0,len(p_best)):\n",
    "        a = ((1-alpha)*c1*rand1*p_best[i]+alpha*c2*rand2*g_best[i])/((1-alpha)*c1*rand1+alpha*c2*rand2)\n",
    "        temp.append(round(a,5))\n",
    "    return temp"
   ]
  },
  {
   "cell_type": "code",
   "execution_count": 78,
   "metadata": {},
   "outputs": [
    {
     "data": {
      "image/png": "[encoded data removed]",
      "text/plain": [
       "<Figure size 432x288 with 1 Axes>"
      ]
     },
     "metadata": {
      "needs_background": "light"
     },
     "output_type": "display_data"
    }
   ],
   "source": [
    "Beta = []\n",
    "x_axis = []\n",
    "for i in range(0,number_iterations):\n",
    "    temp = math.log((i+1)/(number_iterations*random.random()))\n",
    "    Beta.append(temp)\n",
    "    x_axis.append(i)\n",
    "plt.plot(x_axis,Beta)\n",
    "plt.show()"
   ]
  },
  {
   "cell_type": "code",
   "execution_count": 106,
   "metadata": {},
   "outputs": [
    {
     "name": "stdout",
     "output_type": "stream",
     "text": [
      "[86, 52, 68, 63, 16, 33, 15, 32, 61, 35, 47, 33, 25, 20, 68, 60, 11, 88, 80, 12, 0, 69, 67, 94, 88, 54, 76, 65, 27, 10, 48, 63, 64, 49, 51, 43, 14, 40, 92, 83, 47, 12, 41, 6, 24, 56, 55, 98, 40, 72, 29, 77, 92, 30, 69, 32, 59, 37, 65, 78, 34, 20, 36, 95, 1, 28, 92, 45, 78, 56, 62, 2, 83, 69, 29, 71, 39, 9, 15, 27, 30, 31, 50, 84, 6, 53, 88, 79, 38, 55, 45, 95, 74, 70, 21, 42, 18, 43, 64, 22, 61, 82, 71, 31, 62, 34, 79, 77, 94, 21, 66, 76, 8, 26, 13, 58, 3, 57, 96, 11, 58, 44, 60, 29, 74, 16, 21, 74, 26, 91, 63, 41, 44, 73, 5, 16, 23, 13, 0, 39, 55, 24, 23, 19, 91, 2, 64, 86, 93, 99, 66, 91, 81, 54, 70, 97, 77, 9, 0, 17, 14, 51, 36, 41, 42, 45, 26, 76, 38, 10, 53, 87, 85, 67, 31, 81, 72, 3, 90, 66, 28, 53, 73, 56, 59, 37, 58, 83, 40, 94, 2, 37, 60, 38, 5, 98, 71, 48, 14, 73, 25, 4, 12, 57, 67, 89, 96, 68, 10, 36, 24, 82, 7, 17, 4, 35, 90, 98, 81, 93, 18, 46, 57, 90, 1, 65, 61, 48, 87, 89, 52, 46, 50, 72, 19, 44, 99, 25, 23, 17, 39, 51, 50, 7, 7, 97, 95, 20, 93, 80, 78, 84, 3, 8, 32, 22, 62, 11, 34, 49, 75, 27, 99, 8, 49, 15, 97, 1, 87, 6, 79, 52, 5, 80, 18, 47, 75, 89, 19, 30, 33, 85, 42, 59, 9, 35, 70, 46, 86, 43, 54, 22, 75, 13, 28, 82, 96, 4, 85, 84]\n"
     ]
    },
    {
     "ename": "IndexError",
     "evalue": "list index out of range",
     "output_type": "error",
     "traceback": [
      "\u001b[0;31m---------------------------------------------------------------------------\u001b[0m",
      "\u001b[0;31mIndexError\u001b[0m                                Traceback (most recent call last)",
      "\u001b[0;32m<ipython-input-106-db7b75e2e753>\u001b[0m in \u001b[0;36m<module>\u001b[0;34m\u001b[0m\n\u001b[1;32m     19\u001b[0m             \u001b[0mtemp\u001b[0m\u001b[0;34m.\u001b[0m\u001b[0mappend\u001b[0m\u001b[0;34m(\u001b[0m\u001b[0ma\u001b[0m\u001b[0;34m)\u001b[0m\u001b[0;34m\u001b[0m\u001b[0;34m\u001b[0m\u001b[0m\n\u001b[1;32m     20\u001b[0m         \u001b[0mtemp2\u001b[0m \u001b[0;34m=\u001b[0m \u001b[0mencode\u001b[0m\u001b[0;34m(\u001b[0m\u001b[0mtemp\u001b[0m\u001b[0;34m)\u001b[0m\u001b[0;34m\u001b[0m\u001b[0;34m\u001b[0m\u001b[0m\n\u001b[0;32m---> 21\u001b[0;31m         \u001b[0;32mif\u001b[0m\u001b[0;34m(\u001b[0m\u001b[0misValid\u001b[0m\u001b[0;34m(\u001b[0m\u001b[0mtemp2\u001b[0m\u001b[0;34m)\u001b[0m\u001b[0;34m)\u001b[0m\u001b[0;34m:\u001b[0m\u001b[0;34m\u001b[0m\u001b[0;34m\u001b[0m\u001b[0m\n\u001b[0m\u001b[1;32m     22\u001b[0m             \u001b[0mmakespan\u001b[0m \u001b[0;34m=\u001b[0m \u001b[0mcalculateMakeSpan\u001b[0m\u001b[0;34m(\u001b[0m\u001b[0mtemp2\u001b[0m\u001b[0;34m)\u001b[0m\u001b[0;34m\u001b[0m\u001b[0;34m\u001b[0m\u001b[0m\n\u001b[1;32m     23\u001b[0m             \u001b[0;32mif\u001b[0m \u001b[0mmakespan\u001b[0m \u001b[0;34m<\u001b[0m \u001b[0mg_best_span\u001b[0m\u001b[0;34m:\u001b[0m\u001b[0;34m\u001b[0m\u001b[0;34m\u001b[0m\u001b[0m\n",
      "\u001b[0;32m<ipython-input-86-2c9814074b8e>\u001b[0m in \u001b[0;36misValid\u001b[0;34m(schedule)\u001b[0m\n\u001b[1;32m      6\u001b[0m     \u001b[0;32mfor\u001b[0m \u001b[0ms\u001b[0m \u001b[0;32min\u001b[0m \u001b[0mschedule\u001b[0m\u001b[0;34m:\u001b[0m\u001b[0;34m\u001b[0m\u001b[0;34m\u001b[0m\u001b[0m\n\u001b[1;32m      7\u001b[0m         \u001b[0mtemp\u001b[0m \u001b[0;34m=\u001b[0m \u001b[0mint\u001b[0m\u001b[0;34m(\u001b[0m\u001b[0ms\u001b[0m\u001b[0;34m)\u001b[0m\u001b[0;34m\u001b[0m\u001b[0;34m\u001b[0m\u001b[0m\n\u001b[0;32m----> 8\u001b[0;31m         \u001b[0mjobs\u001b[0m\u001b[0;34m[\u001b[0m\u001b[0mtemp\u001b[0m\u001b[0;34m]\u001b[0m \u001b[0;34m=\u001b[0m \u001b[0mjobs\u001b[0m\u001b[0;34m[\u001b[0m\u001b[0mtemp\u001b[0m\u001b[0;34m]\u001b[0m\u001b[0;34m+\u001b[0m\u001b[0;36m1\u001b[0m\u001b[0;34m\u001b[0m\u001b[0;34m\u001b[0m\u001b[0m\n\u001b[0m\u001b[1;32m      9\u001b[0m     \u001b[0;32mfor\u001b[0m \u001b[0mi\u001b[0m \u001b[0;32min\u001b[0m \u001b[0mrange\u001b[0m\u001b[0;34m(\u001b[0m\u001b[0;36m0\u001b[0m\u001b[0;34m,\u001b[0m\u001b[0mn\u001b[0m\u001b[0;34m)\u001b[0m\u001b[0;34m:\u001b[0m\u001b[0;34m\u001b[0m\u001b[0;34m\u001b[0m\u001b[0m\n\u001b[1;32m     10\u001b[0m         \u001b[0;32mif\u001b[0m \u001b[0mjobs\u001b[0m\u001b[0;34m[\u001b[0m\u001b[0mi\u001b[0m\u001b[0;34m]\u001b[0m \u001b[0;34m!=\u001b[0m \u001b[0mm\u001b[0m\u001b[0;34m:\u001b[0m\u001b[0;34m\u001b[0m\u001b[0;34m\u001b[0m\u001b[0m\n",
      "\u001b[0;31mIndexError\u001b[0m: list index out of range"
     ]
    }
   ],
   "source": [
    "alpha = 0.5\n",
    "g_graph_x = []\n",
    "g_graph_y = []\n",
    "for i in range(0,number_iterations):\n",
    "    g_graph_x.append(i)\n",
    "    g_graph_y.append(g_best_span)\n",
    "    for k in range(0,len(population)):\n",
    "        temp = []\n",
    "        for j in range(0,len(population[k])):\n",
    "            beta = round(math.log(1+((i+1)/number_iterations*random.random())),5)\n",
    "            random_number = random.random()\n",
    "            r = population[k]\n",
    "            if random_number > 0.5:\n",
    "                r = p_best[k]\n",
    "            else:\n",
    "                k = random.randint(0,len(population)-1)\n",
    "                r = p_best[k]\n",
    "            a = R[k][j] + alpha*abs(beta) * (r[j]-population[k][j])\n",
    "            temp.append(a)\n",
    "        temp2 = encode(temp)\n",
    "        if(isValid(temp2)):\n",
    "            makespan = calculateMakeSpan(temp2)\n",
    "            if makespan < g_best_span:\n",
    "                g_best_span = makespan\n",
    "                g_best = temp\n",
    "                tabuSearch(g_best,g_best_span)\n",
    "            if makespan < p_best_span[k]:\n",
    "                p_best_span[k] = makespan\n",
    "                p_best[k] = temp\n",
    "        else:\n",
    "            print('not a valid schedule')\n",
    "        R[k] = findR(p_best[k][:],g_best[:])"
   ]
  },
  {
   "cell_type": "code",
   "execution_count": 105,
   "metadata": {},
   "outputs": [],
   "source": [
    "def encode(schedule):\n",
    "    temp = sorted(schedule)\n",
    "    encoded = []\n",
    "    for i in range(0,len(schedule)):\n",
    "        k = temp.index(schedule[i])\n",
    "        encoded.append(k+1)\n",
    "    for i in range(0,len(encoded)):\n",
    "        encoded[i] = math.ceil((encoded[i]/m)-1)\n",
    "    return encoded"
   ]
  },
  {
   "cell_type": "code",
   "execution_count": 80,
   "metadata": {},
   "outputs": [
    {
     "name": "stdout",
     "output_type": "stream",
     "text": [
      "[1693, 1799, 1680, 1703, 1663]\n",
      "1663\n",
      "[1663]\n"
     ]
    },
    {
     "data": {
      "image/png": "[encoded data removed]",
      "text/plain": [
       "<Figure size 432x288 with 1 Axes>"
      ]
     },
     "metadata": {
      "needs_background": "light"
     },
     "output_type": "display_data"
    }
   ],
   "source": [
    "print(p_best_span)\n",
    "print(g_best_span)\n",
    "plt.plot(g_graph_x,g_graph_y)\n",
    "print(g_graph_y)"
   ]
  },
  {
   "cell_type": "code",
   "execution_count": 16,
   "metadata": {},
   "outputs": [],
   "source": [
    "#IMPLEMENT TABI SEARCH\n",
    "def tabuSearch(g_best,g_best_span):\n",
    "    g_best_encoded = encode(g_best)\n",
    "    for i in range(0,len(g_best_encoded)-1):\n",
    "        if(g_best_encoded[i]!=g_best_encoded[i+1]):\n",
    "            temp = g_best_encoded\n",
    "            a = temp[i]\n",
    "            temp[i] = temp[i+1]\n",
    "            temp[i+1] = a\n",
    "            span = calculateMakeSpan(temp)\n",
    "            if span < g_best_span:\n",
    "                g_best_span = span\n",
    "                b = g_best[i]\n",
    "                g_best[i] = g_best[i+1]\n",
    "                g_best[i+1] = b"
   ]
  }
 ],
 "metadata": {
  "kernelspec": {
   "display_name": "Python 3",
   "language": "python",
   "name": "python3"
  }
 },
 "nbformat": 4,
 "nbformat_minor": 2
}
