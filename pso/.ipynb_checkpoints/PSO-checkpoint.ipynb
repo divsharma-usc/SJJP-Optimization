{
 "cells": [
  {
   "cell_type": "code",
   "execution_count": 1,
   "metadata": {},
   "outputs": [],
   "source": [
    "import sys\n",
    "import random\n",
    "import copy\n",
    "import math\n",
    "from matplotlib import pyplot as plt\n",
    "INT_MAX = sys.maxsize"
   ]
  },
  {
   "cell_type": "code",
   "execution_count": 2,
   "metadata": {},
   "outputs": [
    {
     "name": "stdout",
     "output_type": "stream",
     "text": [
      "Enter the number of jobs : 20\n",
      "Enter the number of machines : 15\n",
      "Enter the processing time matrix : 25 75 75 76 38 62 38 59 14 13 46 31 57 92 3 67 5 11 11 40 34 77 42 35 96 22 55 21 29 16 22 98 8 35 59 31 13 46 52 22 18 19 64 29 70 99 42 2 35 11 92 88 97 21 56 17 43 27 19 23 50 5 59 71 47 39 82 35 12 2 39 42 52 65 35 48 57 5 2 60 64 86 3 51 26 34 39 45 63 54 40 43 50 71 46 99 67 34 6 95 67 54 29 30 60 59 3 85 6 46 49 5 82 18 71 48 79 62 65 76 65 55 81 15 32 52 97 69 82 89 69 87 22 71 63 70 74 52 94 14 81 24 14 32 39 67 59 18 77 50 18 6 96 53 35 99 39 18 14 90 64 81 89 48 80 44 75 12 13 74 59 71 75 30 93 26 30 84 91 93 39 56 13 29 55 69 26 7 55 48 22 46 50 96 17 57 14 8 13 95 53 78 24 92 90 68 87 43 75 94 93 92 18 28 27 40 56 83 51 15 97 48 53 78 39 47 34 42 28 11 11 30 14 10 4 20 92 19 59 28 69 82 64 40 27 82 27 43 56 17 18 20 98 43 68 84 26 87 61 95 23 88 89 49 84 12 51 3 44 20 43 54 18 72 70 28 20 22 59 36 85 13 73 29 45 7 97 4 22 74 45 62 95 66 14 40 23 79 34 8\n",
      "Enter the ordering matrix : 4 12 15 2 11 3 5 8 1 13 6 10 7 14 9 6 1 4 9 5 2 13 15 7 8 11 3 10 14 12 3 4 15 1 10 13 6 5 8 11 9 12 14 2 7 9 11 2 14 4 5 15 10 3 6 12 8 1 7 13 15 9 2 3 11 10 13 5 7 6 1 14 4 12 8 4 11 2 6 7 1 9 8 12 14 3 15 13 10 5 3 11 2 13 9 1 8 7 15 14 5 4 6 10 12 2 1 3 5 8 14 12 4 13 6 7 15 10 9 11 5 6 10 11 8 7 3 2 13 4 14 1 9 15 12 2 5 4 11 15 1 7 14 12 9 6 13 8 10 3 4 11 2 1 10 9 15 7 5 8 3 13 6 12 14 3 8 7 9 4 6 15 5 2 1 10 11 14 12 13 1 8 15 9 13 11 10 4 7 2 5 3 12 14 6 13 4 10 5 2 1 11 7 6 3 15 14 8 9 12 4 15 7 6 14 10 2 1 13 8 3 5 11 9 12 6 15 7 13 9 3 5 10 12 14 4 2 8 1 11 4 8 11 15 1 9 2 12 6 14 5 13 7 10 3 11 9 3 12 14 7 15 4 10 8 5 6 13 1 2 4 3 13 14 2 7 15 6 5 9 10 12 1 11 8 12 15 6 7 11 10 14 2 5 9 1 4 13 3 8\n",
      "\n",
      "----- PROCESSING MATRIX -----\n",
      "[[25, 75, 75, 76, 38, 62, 38, 59, 14, 13, 46, 31, 57, 92, 3], [67, 5, 11, 11, 40, 34, 77, 42, 35, 96, 22, 55, 21, 29, 16], [22, 98, 8, 35, 59, 31, 13, 46, 52, 22, 18, 19, 64, 29, 70], [99, 42, 2, 35, 11, 92, 88, 97, 21, 56, 17, 43, 27, 19, 23], [50, 5, 59, 71, 47, 39, 82, 35, 12, 2, 39, 42, 52, 65, 35], [48, 57, 5, 2, 60, 64, 86, 3, 51, 26, 34, 39, 45, 63, 54], [40, 43, 50, 71, 46, 99, 67, 34, 6, 95, 67, 54, 29, 30, 60], [59, 3, 85, 6, 46, 49, 5, 82, 18, 71, 48, 79, 62, 65, 76], [65, 55, 81, 15, 32, 52, 97, 69, 82, 89, 69, 87, 22, 71, 63], [70, 74, 52, 94, 14, 81, 24, 14, 32, 39, 67, 59, 18, 77, 50], [18, 6, 96, 53, 35, 99, 39, 18, 14, 90, 64, 81, 89, 48, 80], [44, 75, 12, 13, 74, 59, 71, 75, 30, 93, 26, 30, 84, 91, 93], [39, 56, 13, 29, 55, 69, 26, 7, 55, 48, 22, 46, 50, 96, 17], [57, 14, 8, 13, 95, 53, 78, 24, 92, 90, 68, 87, 43, 75, 94], [93, 92, 18, 28, 27, 40, 56, 83, 51, 15, 97, 48, 53, 78, 39], [47, 34, 42, 28, 11, 11, 30, 14, 10, 4, 20, 92, 19, 59, 28], [69, 82, 64, 40, 27, 82, 27, 43, 56, 17, 18, 20, 98, 43, 68], [84, 26, 87, 61, 95, 23, 88, 89, 49, 84, 12, 51, 3, 44, 20], [43, 54, 18, 72, 70, 28, 20, 22, 59, 36, 85, 13, 73, 29, 45], [7, 97, 4, 22, 74, 45, 62, 95, 66, 14, 40, 23, 79, 34, 8]]\n",
      "\n",
      "----- ODERING MATRIX -----\n",
      "[[4, 12, 15, 2, 11, 3, 5, 8, 1, 13, 6, 10, 7, 14, 9], [6, 1, 4, 9, 5, 2, 13, 15, 7, 8, 11, 3, 10, 14, 12], [3, 4, 15, 1, 10, 13, 6, 5, 8, 11, 9, 12, 14, 2, 7], [9, 11, 2, 14, 4, 5, 15, 10, 3, 6, 12, 8, 1, 7, 13], [15, 9, 2, 3, 11, 10, 13, 5, 7, 6, 1, 14, 4, 12, 8], [4, 11, 2, 6, 7, 1, 9, 8, 12, 14, 3, 15, 13, 10, 5], [3, 11, 2, 13, 9, 1, 8, 7, 15, 14, 5, 4, 6, 10, 12], [2, 1, 3, 5, 8, 14, 12, 4, 13, 6, 7, 15, 10, 9, 11], [5, 6, 10, 11, 8, 7, 3, 2, 13, 4, 14, 1, 9, 15, 12], [2, 5, 4, 11, 15, 1, 7, 14, 12, 9, 6, 13, 8, 10, 3], [4, 11, 2, 1, 10, 9, 15, 7, 5, 8, 3, 13, 6, 12, 14], [3, 8, 7, 9, 4, 6, 15, 5, 2, 1, 10, 11, 14, 12, 13], [1, 8, 15, 9, 13, 11, 10, 4, 7, 2, 5, 3, 12, 14, 6], [13, 4, 10, 5, 2, 1, 11, 7, 6, 3, 15, 14, 8, 9, 12], [4, 15, 7, 6, 14, 10, 2, 1, 13, 8, 3, 5, 11, 9, 12], [6, 15, 7, 13, 9, 3, 5, 10, 12, 14, 4, 2, 8, 1, 11], [4, 8, 11, 15, 1, 9, 2, 12, 6, 14, 5, 13, 7, 10, 3], [11, 9, 3, 12, 14, 7, 15, 4, 10, 8, 5, 6, 13, 1, 2], [4, 3, 13, 14, 2, 7, 15, 6, 5, 9, 10, 12, 1, 11, 8], [12, 15, 6, 7, 11, 10, 14, 2, 5, 9, 1, 4, 13, 3, 8]]\n"
     ]
    }
   ],
   "source": [
    "n = int(input('Enter the number of jobs : '))\n",
    "m = int(input('Enter the number of machines : '))\n",
    "processing_time_matrix = []\n",
    "ordering_matrix = []\n",
    "\n",
    "ptm = input('Enter the processing time matrix : ')\n",
    "om = input('Enter the ordering matrix : ')\n",
    "\n",
    "#IMPLEMENTING G&T ALGORITHM\n",
    "\n",
    "ptm = ptm.split(' ')\n",
    "om = om.split(' ')\n",
    "\n",
    "k=0\n",
    "for i in range(0,n):\n",
    "    temp = []\n",
    "    for j in range(0,m):\n",
    "        processing_time = int(ptm[k])\n",
    "        temp.append(processing_time)\n",
    "        k=k+1\n",
    "    processing_time_matrix.append(temp)\n",
    "\n",
    "k=0\n",
    "for i in range(0,n):\n",
    "    temp = []\n",
    "    for j in range(0,m):\n",
    "        order = int(om[k])\n",
    "        temp.append(order)\n",
    "        k=k+1\n",
    "    ordering_matrix.append(temp)\n",
    "\n",
    "print()\n",
    "print('----- PROCESSING MATRIX -----')\n",
    "print(processing_time_matrix)\n",
    "\n",
    "print()\n",
    "print('----- ODERING MATRIX -----')\n",
    "print(ordering_matrix)\n"
   ]
  },
  {
   "cell_type": "code",
   "execution_count": 3,
   "metadata": {},
   "outputs": [],
   "source": [
    "def make_population():\n",
    "    \n",
    "    S= []\n",
    "    curr_time = 0\n",
    "    \n",
    "    #STEP 1\n",
    "    set_A = []\n",
    "    for i in range(0,n):\n",
    "        for j in range(0,m):\n",
    "            if ordering_matrix[i][j] == 1:\n",
    "                set_A.append([0,i,j])\n",
    "    \n",
    "    while len(set_A) != 0:\n",
    "        #STEP 2\n",
    "        length_A = len(set_A)\n",
    "        min_value = INT_MAX\n",
    "        for i in range(0,length_A):\n",
    "            a = set_A[i][1]\n",
    "            b = set_A[i][2]\n",
    "            processing_time = processing_time_matrix[a][b]\n",
    "            if set_A[i][0] + processing_time < min_value:\n",
    "                min_value = set_A[i][0] + processing_time\n",
    "        #STEP 3\n",
    "        M = []\n",
    "        for i in range(0,length_A):\n",
    "            if set_A[i][0] < min_value:\n",
    "                M.append(set_A[i][2])\n",
    "        #STEP 4\n",
    "        G = []\n",
    "        set_machines = set(M)\n",
    "        random_machine = random.randint(0,len(set_machines)-1)\n",
    "        random_machine = M[random_machine]\n",
    "        for i in range(0,length_A):\n",
    "            if set_A[i][2] == random_machine:\n",
    "                G.append(set_A[i])\n",
    "            \n",
    "        #STEP 5\n",
    "        length_G = len(G)\n",
    "        max_earlist_time = 0\n",
    "        element = []\n",
    "        for i in range(0,length_G):\n",
    "            if G[i][2] == random_machine:\n",
    "                earlist_time = 0\n",
    "                b = random_machine\n",
    "                a = G[i][1]\n",
    "                order_number = ordering_matrix[a][b]\n",
    "                for j in range(0,m):\n",
    "                    if ordering_matrix[a][j] >= order_number:\n",
    "                        earlist_time = earlist_time + processing_time_matrix[a][j]\n",
    "                if earlist_time > max_earlist_time:\n",
    "                    max_earlist_time = earlist_time\n",
    "                    element = G[i]\n",
    "            \n",
    "        S.append(element[1])\n",
    "        curr_time = curr_time + processing_time_matrix[element[1]][random_machine]\n",
    "        next_order_number = ordering_matrix[element[1]][random_machine]+1\n",
    "\n",
    "        for k in range(0,m):\n",
    "            if ordering_matrix[element[1]][k] == next_order_number:\n",
    "                set_A.append([curr_time,element[1],k])\n",
    "        set_A.remove(element)\n",
    "        G.remove(element)\n",
    "    return S"
   ]
  },
  {
   "cell_type": "code",
   "execution_count": 4,
   "metadata": {},
   "outputs": [
    {
     "name": "stdout",
     "output_type": "stream",
     "text": [
      "Enter the population size : 5\n"
     ]
    }
   ],
   "source": [
    "population_size = int(input('Enter the population size : '))\n",
    "population = []\n",
    "for i in range(0,population_size):\n",
    "    population.append(make_population())"
   ]
  },
  {
   "cell_type": "code",
   "execution_count": 5,
   "metadata": {},
   "outputs": [],
   "source": [
    "def changeToReal(population):\n",
    "    n = len(population)\n",
    "    m = len(population[0])\n",
    "    for i in range(0,n):\n",
    "        for j in range(0,m):\n",
    "            population[i][j] = round(population[i][j] +random.random(),5)\n",
    "    return population"
   ]
  },
  {
   "cell_type": "code",
   "execution_count": 6,
   "metadata": {},
   "outputs": [],
   "source": [
    "real_population = changeToReal(population)"
   ]
  },
  {
   "cell_type": "code",
   "execution_count": 7,
   "metadata": {},
   "outputs": [
    {
     "name": "stdout",
     "output_type": "stream",
     "text": [
      "Enter the number of iterations of IPSO : 10\n"
     ]
    }
   ],
   "source": [
    "number_iterations = int(input('Enter the number of iterations of IPSO : '))"
   ]
  },
  {
   "cell_type": "code",
   "execution_count": 8,
   "metadata": {},
   "outputs": [],
   "source": [
    "def calculateMakeSpan(schedule):\n",
    "    job_schedule = []\n",
    "    machine_free = []\n",
    "    operation_no = []\n",
    "    \n",
    "    for i in range(0,n):\n",
    "        job_schedule.append(0)\n",
    "        operation_no.append(0)\n",
    "    \n",
    "    for i in range(0,m):\n",
    "        machine_free.append(0)\n",
    "    \n",
    "    timer = 0\n",
    "    \n",
    "    while(True):\n",
    "        flag = True\n",
    "        \n",
    "        for s in schedule:\n",
    "            if s != -1:\n",
    "                flag = False\n",
    "       \n",
    "        if flag == True:\n",
    "            break\n",
    "        \n",
    "        for i in range(0,len(schedule)):\n",
    "            s = int(schedule[i])\n",
    "            if s != -1:\n",
    "                if timer > job_schedule[s]:\n",
    "                    machine = int(findMachine(s,operation_no[s]+1))\n",
    "                    if timer > machine_free[machine]:\n",
    "                        machine_free[machine] = timer + processing_time_matrix[s][machine]\n",
    "                        job_schedule[s] = timer + processing_time_matrix[s][machine]\n",
    "                        schedule[i] = -1\n",
    "                        operation_no[s] = operation_no[s]+1\n",
    "        timer = timer+1\n",
    "        \n",
    "    makespan = 0\n",
    "    for i in job_schedule:\n",
    "        if i > makespan:\n",
    "            makespan = i\n",
    "    return makespan\n",
    "\n",
    "def findMachine(s,on):\n",
    "    for j in range(0,m):\n",
    "        if ordering_matrix[s][j] == on:\n",
    "            return j\n",
    "    return 1    "
   ]
  },
  {
   "cell_type": "code",
   "execution_count": 9,
   "metadata": {},
   "outputs": [],
   "source": [
    "def isValid(schedule):\n",
    "    jobs = []\n",
    "    for i in range(0,n):\n",
    "        jobs.append(0)\n",
    "    for s in schedule:\n",
    "        temp = int(s)\n",
    "        jobs[temp] = jobs[temp]+1\n",
    "    for i in range(0,n):\n",
    "        if jobs[i] != m:\n",
    "            print(jobs)\n",
    "            return False\n",
    "    return True"
   ]
  },
  {
   "cell_type": "code",
   "execution_count": 11,
   "metadata": {},
   "outputs": [
    {
     "ename": "NameError",
     "evalue": "name 'calculateMakeSpan2' is not defined",
     "output_type": "error",
     "traceback": [
      "\u001b[0;31m---------------------------------------------------------------------------\u001b[0m",
      "\u001b[0;31mNameError\u001b[0m                                 Traceback (most recent call last)",
      "\u001b[0;32m<ipython-input-11-82157429fa3d>\u001b[0m in \u001b[0;36m<module>\u001b[0;34m\u001b[0m\n\u001b[1;32m      6\u001b[0m \u001b[0mg_best\u001b[0m \u001b[0;34m=\u001b[0m\u001b[0;34m[\u001b[0m\u001b[0;34m]\u001b[0m\u001b[0;34m\u001b[0m\u001b[0;34m\u001b[0m\u001b[0m\n\u001b[1;32m      7\u001b[0m \u001b[0;32mfor\u001b[0m \u001b[0mp\u001b[0m \u001b[0;32min\u001b[0m \u001b[0mpopulation\u001b[0m\u001b[0;34m:\u001b[0m\u001b[0;34m\u001b[0m\u001b[0;34m\u001b[0m\u001b[0m\n\u001b[0;32m----> 8\u001b[0;31m     \u001b[0mmake_span\u001b[0m \u001b[0;34m=\u001b[0m \u001b[0mcalculateMakeSpan2\u001b[0m\u001b[0;34m(\u001b[0m\u001b[0mp\u001b[0m\u001b[0;34m[\u001b[0m\u001b[0;34m:\u001b[0m\u001b[0;34m]\u001b[0m\u001b[0;34m)\u001b[0m\u001b[0;34m\u001b[0m\u001b[0;34m\u001b[0m\u001b[0m\n\u001b[0m\u001b[1;32m      9\u001b[0m     \u001b[0mp_best_span\u001b[0m\u001b[0;34m.\u001b[0m\u001b[0mappend\u001b[0m\u001b[0;34m(\u001b[0m\u001b[0mmake_span\u001b[0m\u001b[0;34m)\u001b[0m\u001b[0;34m\u001b[0m\u001b[0;34m\u001b[0m\u001b[0m\n\u001b[1;32m     10\u001b[0m     \u001b[0;32mif\u001b[0m \u001b[0mmake_span\u001b[0m \u001b[0;34m<\u001b[0m \u001b[0mg_best_span\u001b[0m\u001b[0;34m:\u001b[0m\u001b[0;34m\u001b[0m\u001b[0;34m\u001b[0m\u001b[0m\n",
      "\u001b[0;31mNameError\u001b[0m: name 'calculateMakeSpan2' is not defined"
     ]
    }
   ],
   "source": [
    "#START To IMPLEMENT IPSO\n",
    "p_best_span = []\n",
    "p_best = population[:]\n",
    "R = []\n",
    "g_best_span = INT_MAX\n",
    "g_best =[]\n",
    "for p in population:\n",
    "    make_span = calculateMakeSpan2(p[:])\n",
    "    p_best_span.append(make_span)\n",
    "    if make_span < g_best_span:\n",
    "        g_best_span = make_span\n",
    "        g_best = p[:]\n",
    "    R.append(findR(p[:],g_best[:]))\n",
    "print(p_best_span)\n",
    "print(g_best_span)\n",
    "print(g_best)"
   ]
  },
  {
   "cell_type": "code",
   "execution_count": 10,
   "metadata": {},
   "outputs": [],
   "source": [
    "def findR(p_best,g_best):\n",
    "    rand1 = round(random.random(),5)\n",
    "    rand2 = round(random.random(),5)\n",
    "    c1 = c2 = 1.4\n",
    "    alpha = 0.5\n",
    "    temp = []\n",
    "    for i in range(0,len(p_best)):\n",
    "        a = ((1-alpha)*c1*rand1*p_best[i]+alpha*c2*rand2*g_best[i])/((1-alpha)*c1*rand1+alpha*c2*rand2)\n",
    "        temp.append(round(a,5))\n",
    "    return temp"
   ]
  },
  {
   "cell_type": "code",
   "execution_count": 12,
   "metadata": {},
   "outputs": [
    {
     "data": {
      "image/png": "[encoded data removed]",
      "text/plain": [
       "<Figure size 432x288 with 1 Axes>"
      ]
     },
     "metadata": {
      "needs_background": "light"
     },
     "output_type": "display_data"
    }
   ],
   "source": [
    "Beta = []\n",
    "x_axis = []\n",
    "for i in range(1,number_iterations):\n",
    "    temp = math.log((i)/(number_iterations*random.random()))\n",
    "    Beta.append(temp)\n",
    "    x_axis.append(i)\n",
    "plt.plot(x_axis,Beta)\n",
    "plt.show()"
   ]
  },
  {
   "cell_type": "code",
   "execution_count": 13,
   "metadata": {},
   "outputs": [
    {
     "ename": "IndexError",
     "evalue": "list index out of range",
     "output_type": "error",
     "traceback": [
      "\u001b[0;31m---------------------------------------------------------------------------\u001b[0m",
      "\u001b[0;31mIndexError\u001b[0m                                Traceback (most recent call last)",
      "\u001b[0;32m<ipython-input-13-59a1ae17b74d>\u001b[0m in \u001b[0;36m<module>\u001b[0;34m\u001b[0m\n\u001b[1;32m     16\u001b[0m         \u001b[0;32mfor\u001b[0m \u001b[0mj\u001b[0m \u001b[0;32min\u001b[0m \u001b[0mrange\u001b[0m\u001b[0;34m(\u001b[0m\u001b[0;36m0\u001b[0m\u001b[0;34m,\u001b[0m\u001b[0mlen\u001b[0m\u001b[0;34m(\u001b[0m\u001b[0mpopulation\u001b[0m\u001b[0;34m[\u001b[0m\u001b[0mk\u001b[0m\u001b[0;34m]\u001b[0m\u001b[0;34m)\u001b[0m\u001b[0;34m)\u001b[0m\u001b[0;34m:\u001b[0m\u001b[0;34m\u001b[0m\u001b[0;34m\u001b[0m\u001b[0m\n\u001b[1;32m     17\u001b[0m             \u001b[0mbeta\u001b[0m \u001b[0;34m=\u001b[0m \u001b[0mround\u001b[0m\u001b[0;34m(\u001b[0m\u001b[0mmath\u001b[0m\u001b[0;34m.\u001b[0m\u001b[0mlog\u001b[0m\u001b[0;34m(\u001b[0m\u001b[0;36m1\u001b[0m\u001b[0;34m+\u001b[0m\u001b[0;34m(\u001b[0m\u001b[0;34m(\u001b[0m\u001b[0mi\u001b[0m\u001b[0;34m+\u001b[0m\u001b[0;36m1\u001b[0m\u001b[0;34m)\u001b[0m\u001b[0;34m/\u001b[0m\u001b[0mnumber_iterations\u001b[0m\u001b[0;34m*\u001b[0m\u001b[0mrandom\u001b[0m\u001b[0;34m.\u001b[0m\u001b[0mrandom\u001b[0m\u001b[0;34m(\u001b[0m\u001b[0;34m)\u001b[0m\u001b[0;34m)\u001b[0m\u001b[0;34m)\u001b[0m\u001b[0;34m,\u001b[0m\u001b[0;36m5\u001b[0m\u001b[0;34m)\u001b[0m\u001b[0;34m\u001b[0m\u001b[0;34m\u001b[0m\u001b[0m\n\u001b[0;32m---> 18\u001b[0;31m             \u001b[0ma\u001b[0m \u001b[0;34m=\u001b[0m \u001b[0mR\u001b[0m\u001b[0;34m[\u001b[0m\u001b[0mk\u001b[0m\u001b[0;34m]\u001b[0m\u001b[0;34m[\u001b[0m\u001b[0mj\u001b[0m\u001b[0;34m]\u001b[0m \u001b[0;34m+\u001b[0m \u001b[0malpha\u001b[0m\u001b[0;34m*\u001b[0m\u001b[0mabs\u001b[0m\u001b[0;34m(\u001b[0m\u001b[0mbeta\u001b[0m\u001b[0;34m)\u001b[0m \u001b[0;34m*\u001b[0m \u001b[0;34m(\u001b[0m\u001b[0mr\u001b[0m\u001b[0;34m[\u001b[0m\u001b[0mj\u001b[0m\u001b[0;34m]\u001b[0m\u001b[0;34m-\u001b[0m\u001b[0mpopulation\u001b[0m\u001b[0;34m[\u001b[0m\u001b[0mk\u001b[0m\u001b[0;34m]\u001b[0m\u001b[0;34m[\u001b[0m\u001b[0mj\u001b[0m\u001b[0;34m]\u001b[0m\u001b[0;34m)\u001b[0m\u001b[0;34m\u001b[0m\u001b[0;34m\u001b[0m\u001b[0m\n\u001b[0m\u001b[1;32m     19\u001b[0m             \u001b[0mtemp\u001b[0m\u001b[0;34m.\u001b[0m\u001b[0mappend\u001b[0m\u001b[0;34m(\u001b[0m\u001b[0ma\u001b[0m\u001b[0;34m)\u001b[0m\u001b[0;34m\u001b[0m\u001b[0;34m\u001b[0m\u001b[0m\n\u001b[1;32m     20\u001b[0m         \u001b[0mtemp2\u001b[0m \u001b[0;34m=\u001b[0m \u001b[0mencode\u001b[0m\u001b[0;34m(\u001b[0m\u001b[0mtemp\u001b[0m\u001b[0;34m)\u001b[0m\u001b[0;34m\u001b[0m\u001b[0;34m\u001b[0m\u001b[0m\n",
      "\u001b[0;31mIndexError\u001b[0m: list index out of range"
     ]
    }
   ],
   "source": [
    "g_graph_x = []\n",
    "g_graph_y = []\n",
    "for i in range(0,number_iterations):\n",
    "    alpha = ((i+1)/number_iterations)\n",
    "    g_graph_x.append(i)\n",
    "    g_graph_y.append(g_best_span)\n",
    "    for k in range(0,len(population)):\n",
    "        temp = []\n",
    "        r = population[k]\n",
    "        random_number = random.random()\n",
    "        if random_number > 0.5:\n",
    "            r = p_best[k]\n",
    "        else:\n",
    "            ml = random.randint(0,len(population)-1)\n",
    "            r = p_best[ml]\n",
    "        for j in range(0,len(population[k])):\n",
    "            beta = round(math.log(1+((i+1)/number_iterations*random.random())),5)\n",
    "            a = R[k][j] + alpha*abs(beta) * (r[j]-population[k][j])\n",
    "            temp.append(a)\n",
    "        temp2 = encode(temp)\n",
    "        if(isValid(temp2)):\n",
    "            makespan = calculateMakeSpan(temp2)\n",
    "            if makespan < g_best_span:\n",
    "                g_best_span = makespan\n",
    "                g_best = temp\n",
    "                tabuSearch(g_best,g_best_span)\n",
    "            if makespan < p_best_span[k]:\n",
    "                p_best_span[k] = makespan\n",
    "                p_best[k] = temp\n",
    "        else:\n",
    "            print('not a valid schedule')\n",
    "        R[k] = findR(p_best[k][:],g_best[:])"
   ]
  },
  {
   "cell_type": "code",
   "execution_count": 14,
   "metadata": {},
   "outputs": [],
   "source": [
    "def encode(schedule):\n",
    "    temp = sorted(schedule)\n",
    "    encoded = []\n",
    "    for i in range(0,len(schedule)):\n",
    "        k = temp.index(schedule[i])\n",
    "        encoded.append(k+1)\n",
    "    for i in range(0,len(encoded)):\n",
    "        encoded[i] = math.ceil(encoded[i]/m)-1\n",
    "    return encoded"
   ]
  },
  {
   "cell_type": "code",
   "execution_count": 15,
   "metadata": {},
   "outputs": [
    {
     "name": "stdout",
     "output_type": "stream",
     "text": [
      "[]\n",
      "9223372036854775807\n"
     ]
    },
    {
     "ename": "NameError",
     "evalue": "name 'calculateMakeSpan2' is not defined",
     "output_type": "error",
     "traceback": [
      "\u001b[0;31m---------------------------------------------------------------------------\u001b[0m",
      "\u001b[0;31mNameError\u001b[0m                                 Traceback (most recent call last)",
      "\u001b[0;32m<ipython-input-15-89da2dd61f91>\u001b[0m in \u001b[0;36m<module>\u001b[0;34m\u001b[0m\n\u001b[1;32m      1\u001b[0m \u001b[0mprint\u001b[0m\u001b[0;34m(\u001b[0m\u001b[0mp_best_span\u001b[0m\u001b[0;34m)\u001b[0m\u001b[0;34m\u001b[0m\u001b[0;34m\u001b[0m\u001b[0m\n\u001b[1;32m      2\u001b[0m \u001b[0mprint\u001b[0m\u001b[0;34m(\u001b[0m\u001b[0mg_best_span\u001b[0m\u001b[0;34m)\u001b[0m\u001b[0;34m\u001b[0m\u001b[0;34m\u001b[0m\u001b[0m\n\u001b[0;32m----> 3\u001b[0;31m \u001b[0mg_best_span2\u001b[0m \u001b[0;34m=\u001b[0m \u001b[0mcalculateMakeSpan2\u001b[0m\u001b[0;34m(\u001b[0m\u001b[0mencode\u001b[0m\u001b[0;34m(\u001b[0m\u001b[0mg_best\u001b[0m\u001b[0;34m)\u001b[0m\u001b[0;34m)\u001b[0m\u001b[0;34m\u001b[0m\u001b[0;34m\u001b[0m\u001b[0m\n\u001b[0m\u001b[1;32m      4\u001b[0m \u001b[0mplt\u001b[0m\u001b[0;34m.\u001b[0m\u001b[0mplot\u001b[0m\u001b[0;34m(\u001b[0m\u001b[0mg_graph_x\u001b[0m\u001b[0;34m,\u001b[0m\u001b[0mg_graph_y\u001b[0m\u001b[0;34m)\u001b[0m\u001b[0;34m\u001b[0m\u001b[0;34m\u001b[0m\u001b[0m\n",
      "\u001b[0;31mNameError\u001b[0m: name 'calculateMakeSpan2' is not defined"
     ]
    }
   ],
   "source": [
    "print(p_best_span)\n",
    "print(g_best_span)\n",
    "g_best_span2 = calculateMakeSpan2(encode(g_best))\n",
    "plt.plot(g_graph_x,g_graph_y)"
   ]
  },
  {
   "cell_type": "code",
   "execution_count": 16,
   "metadata": {},
   "outputs": [],
   "source": [
    "#IMPLEMENT TABU SEARCH\n",
    "def tabuSearch(g_best,g_best_span):\n",
    "    g_best_encoded = encode(g_best)\n",
    "    for i in range(0,len(g_best_encoded)-1):\n",
    "        if(g_best_encoded[i]!=g_best_encoded[i+1]):\n",
    "            temp = g_best_encoded\n",
    "            a = temp[i]\n",
    "            temp[i] = temp[i+1]\n",
    "            temp[i+1] = a\n",
    "            span = calculateMakeSpan(temp)\n",
    "            if span < g_best_span:\n",
    "                g_best_span = span\n",
    "                b = g_best[i]\n",
    "                g_best[i] = g_best[i+1]\n",
    "                g_best[i+1] = b"
   ]
  },
  {
   "cell_type": "code",
   "execution_count": 17,
   "metadata": {},
   "outputs": [
    {
     "name": "stdout",
     "output_type": "stream",
     "text": [
      "[[[1, 8, 14], [2, 3, 76], [3, 5, 62], [4, 0, 25], [5, 6, 38], [6, 10, 46], [7, 12, 57], [8, 7, 59], [9, 14, 3], [10, 11, 31], [11, 4, 38], [12, 1, 75], [13, 9, 13], [14, 13, 92], [15, 2, 75]], [[1, 1, 5], [2, 5, 34], [3, 11, 55], [4, 2, 11], [5, 4, 40], [6, 0, 67], [7, 8, 35], [8, 9, 96], [9, 3, 11], [10, 12, 21], [11, 10, 22], [12, 14, 16], [13, 6, 77], [14, 13, 29], [15, 7, 42]], [[1, 3, 35], [2, 13, 29], [3, 0, 22], [4, 1, 98], [5, 7, 46], [6, 6, 13], [7, 14, 70], [8, 8, 52], [9, 10, 18], [10, 4, 59], [11, 9, 22], [12, 11, 19], [13, 5, 31], [14, 12, 64], [15, 2, 8]], [[1, 12, 27], [2, 2, 2], [3, 8, 21], [4, 4, 11], [5, 5, 92], [6, 9, 56], [7, 13, 19], [8, 11, 43], [9, 0, 99], [10, 7, 97], [11, 1, 42], [12, 10, 17], [13, 14, 23], [14, 3, 35], [15, 6, 88]], [[1, 10, 39], [2, 2, 59], [3, 3, 71], [4, 12, 52], [5, 7, 35], [6, 9, 2], [7, 8, 12], [8, 14, 35], [9, 1, 5], [10, 5, 39], [11, 4, 47], [12, 13, 65], [13, 6, 82], [14, 11, 42], [15, 0, 50]], [[1, 5, 64], [2, 2, 5], [3, 10, 34], [4, 0, 48], [5, 14, 54], [6, 3, 2], [7, 4, 60], [8, 7, 3], [9, 6, 86], [10, 13, 63], [11, 1, 57], [12, 8, 51], [13, 12, 45], [14, 9, 26], [15, 11, 39]], [[1, 5, 99], [2, 2, 50], [3, 0, 40], [4, 11, 54], [5, 10, 67], [6, 12, 29], [7, 7, 34], [8, 6, 67], [9, 4, 46], [10, 13, 30], [11, 1, 43], [12, 14, 60], [13, 3, 71], [14, 9, 95], [15, 8, 6]], [[1, 1, 3], [2, 0, 59], [3, 2, 85], [4, 7, 82], [5, 3, 6], [6, 9, 71], [7, 10, 48], [8, 4, 46], [9, 13, 65], [10, 12, 62], [11, 14, 76], [12, 6, 5], [13, 8, 18], [14, 5, 49], [15, 11, 79]], [[1, 11, 87], [2, 7, 69], [3, 6, 97], [4, 9, 89], [5, 0, 65], [6, 1, 55], [7, 5, 52], [8, 4, 32], [9, 12, 22], [10, 2, 81], [11, 3, 15], [12, 14, 63], [13, 8, 82], [14, 10, 69], [15, 13, 71]], [[1, 5, 81], [2, 0, 70], [3, 14, 50], [4, 2, 52], [5, 1, 74], [6, 10, 67], [7, 6, 24], [8, 12, 18], [9, 9, 39], [10, 13, 77], [11, 3, 94], [12, 8, 32], [13, 11, 59], [14, 7, 14], [15, 4, 14]], [[1, 3, 53], [2, 2, 96], [3, 10, 64], [4, 0, 18], [5, 8, 14], [6, 12, 89], [7, 7, 18], [8, 9, 90], [9, 5, 99], [10, 4, 35], [11, 1, 6], [12, 13, 48], [13, 11, 81], [14, 14, 80], [15, 6, 39]], [[1, 9, 93], [2, 8, 30], [3, 0, 44], [4, 4, 74], [5, 7, 75], [6, 5, 59], [7, 2, 12], [8, 1, 75], [9, 3, 13], [10, 10, 26], [11, 11, 30], [12, 13, 91], [13, 14, 93], [14, 12, 84], [15, 6, 71]], [[1, 0, 39], [2, 9, 48], [3, 11, 46], [4, 7, 7], [5, 10, 22], [6, 14, 17], [7, 8, 55], [8, 1, 56], [9, 3, 29], [10, 6, 26], [11, 5, 69], [12, 12, 50], [13, 4, 55], [14, 13, 96], [15, 2, 13]], [[1, 5, 53], [2, 4, 95], [3, 9, 90], [4, 1, 14], [5, 3, 13], [6, 8, 92], [7, 7, 24], [8, 12, 43], [9, 13, 75], [10, 2, 8], [11, 6, 78], [12, 14, 94], [13, 0, 57], [14, 11, 87], [15, 10, 68]], [[1, 7, 83], [2, 6, 56], [3, 10, 97], [4, 0, 93], [5, 11, 48], [6, 3, 28], [7, 2, 18], [8, 9, 15], [9, 13, 78], [10, 5, 40], [11, 12, 53], [12, 14, 39], [13, 8, 51], [14, 4, 27], [15, 1, 92]], [[1, 13, 59], [2, 11, 92], [3, 5, 11], [4, 10, 20], [5, 6, 30], [6, 0, 47], [7, 2, 42], [8, 12, 19], [9, 4, 11], [10, 7, 14], [11, 14, 28], [12, 8, 10], [13, 3, 28], [14, 9, 4], [15, 1, 34]], [[1, 4, 27], [2, 6, 27], [3, 14, 68], [4, 0, 69], [5, 10, 18], [6, 8, 56], [7, 12, 98], [8, 1, 82], [9, 5, 82], [10, 13, 43], [11, 2, 64], [12, 7, 43], [13, 11, 20], [14, 9, 17], [15, 3, 40]], [[1, 13, 44], [2, 14, 20], [3, 2, 87], [4, 7, 89], [5, 10, 12], [6, 11, 51], [7, 5, 23], [8, 9, 84], [9, 1, 26], [10, 8, 49], [11, 0, 84], [12, 3, 61], [13, 12, 3], [14, 4, 95], [15, 6, 88]], [[1, 12, 73], [2, 4, 70], [3, 1, 54], [4, 0, 43], [5, 8, 59], [6, 7, 22], [7, 5, 28], [8, 14, 45], [9, 9, 36], [10, 10, 85], [11, 13, 29], [12, 11, 13], [13, 2, 18], [14, 3, 72], [15, 6, 20]], [[1, 10, 40], [2, 7, 95], [3, 13, 34], [4, 11, 23], [5, 8, 66], [6, 2, 4], [7, 3, 22], [8, 14, 8], [9, 9, 14], [10, 5, 45], [11, 4, 74], [12, 0, 7], [13, 12, 79], [14, 6, 62], [15, 1, 97]]]\n"
     ]
    }
   ],
   "source": [
    "matrix = []\n",
    "def makeMatrix():\n",
    "    for j in range(0,n):\n",
    "        temp = []\n",
    "        for i in range (1,m+1):\n",
    "            k = ordering_matrix[j].index(i)\n",
    "            temp.append([i,k,processing_time_matrix[j][k]])\n",
    "        matrix.append(temp)\n",
    "makeMatrix()\n",
    "print(matrix)"
   ]
  },
  {
   "cell_type": "code",
   "execution_count": 18,
   "metadata": {},
   "outputs": [],
   "source": [
    "def calculateMakeSpan2(schedule):\n",
    "    machine_time = []\n",
    "    job_time = []\n",
    "    job_order = []\n",
    "    for i in range(0,n):\n",
    "        job_time.append(0)\n",
    "        job_order.append(0)\n",
    "    for i in range(0,m):\n",
    "        machine_time.append(0)\n",
    "    \n",
    "    for jobs in schedule:\n",
    "        job = int(jobs)\n",
    "        order = job_order[job]\n",
    "        jobTime = job_time[job]\n",
    "        if order < m:\n",
    "            machine = matrix[job][order]\n",
    "            machineTime = machine_time[machine[1]]\n",
    "            time = max(jobTime,machineTime)+matrix[job][order][2]\n",
    "            job_time[job] = machine_time[machine[1]] = time\n",
    "            job_order[job] = job_order[job]+1\n",
    "    \n",
    "    span = 0\n",
    "    \n",
    "    for i in job_time:\n",
    "        if i > span:\n",
    "            span = i\n",
    "    return span"
   ]
  },
  {
   "cell_type": "code",
   "execution_count": 52,
   "metadata": {},
   "outputs": [],
   "source": [
    "def calculateMakeSpanX(schedule):\n",
    "    machines = [[] for i in range(m)]\n",
    "    operation = []\n",
    "    for i in range(0,n):\n",
    "        operation.append(0)\n",
    "    for s in schedule:\n",
    "        job = int(s)\n",
    "        mac = matrix[job][operation[job]][1]\n",
    "        temp =[job,matrix[job][operation[job]][2]]\n",
    "        temp2= machines[mac]\n",
    "        temp2.append(temp)\n",
    "        operation[job]=operation[job]+1\n",
    "        \n",
    "        "
   ]
  },
  {
   "cell_type": "code",
   "execution_count": 53,
   "metadata": {},
   "outputs": [
    {
     "name": "stdout",
     "output_type": "stream",
     "text": [
      "20\n",
      "20\n",
      "20\n",
      "20\n",
      "20\n",
      "20\n",
      "20\n",
      "20\n",
      "20\n",
      "20\n",
      "20\n",
      "20\n",
      "20\n",
      "20\n",
      "20\n"
     ]
    }
   ],
   "source": [
    "calculateMakeSpanX(population[0])"
   ]
  }
 ],
 "metadata": {
  "kernelspec": {
   "display_name": "Python 3",
   "language": "python",
   "name": "python3"
  },
  "language_info": {
   "codemirror_mode": {
    "name": "ipython",
    "version": 3
   },
   "file_extension": ".py",
   "mimetype": "text/x-python",
   "name": "python",
   "nbconvert_exporter": "python",
   "pygments_lexer": "ipython3",
   "version": "3.7.3"
  }
 },
 "nbformat": 4,
 "nbformat_minor": 2
}
