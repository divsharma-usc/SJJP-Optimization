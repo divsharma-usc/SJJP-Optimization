{
 "cells": [
  {
   "cell_type": "code",
   "execution_count": 1,
   "metadata": {},
   "outputs": [],
   "source": [
    "import sys\n",
    "import random\n",
    "import copy\n",
    "import math\n",
    "from matplotlib import pyplot as plt\n",
    "INT_MAX = sys.maxsize"
   ]
  },
  {
   "cell_type": "code",
   "execution_count": 2,
   "metadata": {},
   "outputs": [
    {
     "name": "stdout",
     "output_type": "stream",
     "text": [
      "Enter the number of jobs : 20\n",
      "Enter the number of machines : 15\n",
      "Enter the processing time matrix : 25 75 75 76 38 62 38 59 14 13 46 31 57 92 3 67 5 11 11 40 34 77 42 35 96 22 55 21 29 16 22 98 8 35 59 31 13 46 52 22 18 19 64 29 70 99 42 2 35 11 92 88 97 21 56 17 43 27 19 23 50 5 59 71 47 39 82 35 12 2 39 42 52 65 35 48 57 5 2 60 64 86 3 51 26 34 39 45 63 54 40 43 50 71 46 99 67 34 6 95 67 54 29 30 60 59 3 85 6 46 49 5 82 18 71 48 79 62 65 76 65 55 81 15 32 52 97 69 82 89 69 87 22 71 63 70 74 52 94 14 81 24 14 32 39 67 59 18 77 50 18 6 96 53 35 99 39 18 14 90 64 81 89 48 80 44 75 12 13 74 59 71 75 30 93 26 30 84 91 93 39 56 13 29 55 69 26 7 55 48 22 46 50 96 17 57 14 8 13 95 53 78 24 92 90 68 87 43 75 94 93 92 18 28 27 40 56 83 51 15 97 48 53 78 39 47 34 42 28 11 11 30 14 10 4 20 92 19 59 28 69 82 64 40 27 82 27 43 56 17 18 20 98 43 68 84 26 87 61 95 23 88 89 49 84 12 51 3 44 20 43 54 18 72 70 28 20 22 59 36 85 13 73 29 45 7 97 4 22 74 45 62 95 66 14 40 23 79 34 8\n",
      "Enter the ordering matrix : 4 12 15 2 11 3 5 8 1 13 6 10 7 14 9 6 1 4 9 5 2 13 15 7 8 11 3 10 14 12 3 4 15 1 10 13 6 5 8 11 9 12 14 2 7 9 11 2 14 4 5 15 10 3 6 12 8 1 7 13 15 9 2 3 11 10 13 5 7 6 1 14 4 12 8 4 11 2 6 7 1 9 8 12 14 3 15 13 10 5 3 11 2 13 9 1 8 7 15 14 5 4 6 10 12 2 1 3 5 8 14 12 4 13 6 7 15 10 9 11 5 6 10 11 8 7 3 2 13 4 14 1 9 15 12 2 5 4 11 15 1 7 14 12 9 6 13 8 10 3 4 11 2 1 10 9 15 7 5 8 3 13 6 12 14 3 8 7 9 4 6 15 5 2 1 10 11 14 12 13 1 8 15 9 13 11 10 4 7 2 5 3 12 14 6 13 4 10 5 2 1 11 7 6 3 15 14 8 9 12 4 15 7 6 14 10 2 1 13 8 3 5 11 9 12 6 15 7 13 9 3 5 10 12 14 4 2 8 1 11 4 8 11 15 1 9 2 12 6 14 5 13 7 10 3 11 9 3 12 14 7 15 4 10 8 5 6 13 1 2 4 3 13 14 2 7 15 6 5 9 10 12 1 11 8 12 15 6 7 11 10 14 2 5 9 1 4 13 3 8\n",
      "\n",
      "----- PROCESSING MATRIX -----\n",
      "[[25, 75, 75, 76, 38, 62, 38, 59, 14, 13, 46, 31, 57, 92, 3], [67, 5, 11, 11, 40, 34, 77, 42, 35, 96, 22, 55, 21, 29, 16], [22, 98, 8, 35, 59, 31, 13, 46, 52, 22, 18, 19, 64, 29, 70], [99, 42, 2, 35, 11, 92, 88, 97, 21, 56, 17, 43, 27, 19, 23], [50, 5, 59, 71, 47, 39, 82, 35, 12, 2, 39, 42, 52, 65, 35], [48, 57, 5, 2, 60, 64, 86, 3, 51, 26, 34, 39, 45, 63, 54], [40, 43, 50, 71, 46, 99, 67, 34, 6, 95, 67, 54, 29, 30, 60], [59, 3, 85, 6, 46, 49, 5, 82, 18, 71, 48, 79, 62, 65, 76], [65, 55, 81, 15, 32, 52, 97, 69, 82, 89, 69, 87, 22, 71, 63], [70, 74, 52, 94, 14, 81, 24, 14, 32, 39, 67, 59, 18, 77, 50], [18, 6, 96, 53, 35, 99, 39, 18, 14, 90, 64, 81, 89, 48, 80], [44, 75, 12, 13, 74, 59, 71, 75, 30, 93, 26, 30, 84, 91, 93], [39, 56, 13, 29, 55, 69, 26, 7, 55, 48, 22, 46, 50, 96, 17], [57, 14, 8, 13, 95, 53, 78, 24, 92, 90, 68, 87, 43, 75, 94], [93, 92, 18, 28, 27, 40, 56, 83, 51, 15, 97, 48, 53, 78, 39], [47, 34, 42, 28, 11, 11, 30, 14, 10, 4, 20, 92, 19, 59, 28], [69, 82, 64, 40, 27, 82, 27, 43, 56, 17, 18, 20, 98, 43, 68], [84, 26, 87, 61, 95, 23, 88, 89, 49, 84, 12, 51, 3, 44, 20], [43, 54, 18, 72, 70, 28, 20, 22, 59, 36, 85, 13, 73, 29, 45], [7, 97, 4, 22, 74, 45, 62, 95, 66, 14, 40, 23, 79, 34, 8]]\n",
      "\n",
      "----- ODERING MATRIX -----\n",
      "[[4, 12, 15, 2, 11, 3, 5, 8, 1, 13, 6, 10, 7, 14, 9], [6, 1, 4, 9, 5, 2, 13, 15, 7, 8, 11, 3, 10, 14, 12], [3, 4, 15, 1, 10, 13, 6, 5, 8, 11, 9, 12, 14, 2, 7], [9, 11, 2, 14, 4, 5, 15, 10, 3, 6, 12, 8, 1, 7, 13], [15, 9, 2, 3, 11, 10, 13, 5, 7, 6, 1, 14, 4, 12, 8], [4, 11, 2, 6, 7, 1, 9, 8, 12, 14, 3, 15, 13, 10, 5], [3, 11, 2, 13, 9, 1, 8, 7, 15, 14, 5, 4, 6, 10, 12], [2, 1, 3, 5, 8, 14, 12, 4, 13, 6, 7, 15, 10, 9, 11], [5, 6, 10, 11, 8, 7, 3, 2, 13, 4, 14, 1, 9, 15, 12], [2, 5, 4, 11, 15, 1, 7, 14, 12, 9, 6, 13, 8, 10, 3], [4, 11, 2, 1, 10, 9, 15, 7, 5, 8, 3, 13, 6, 12, 14], [3, 8, 7, 9, 4, 6, 15, 5, 2, 1, 10, 11, 14, 12, 13], [1, 8, 15, 9, 13, 11, 10, 4, 7, 2, 5, 3, 12, 14, 6], [13, 4, 10, 5, 2, 1, 11, 7, 6, 3, 15, 14, 8, 9, 12], [4, 15, 7, 6, 14, 10, 2, 1, 13, 8, 3, 5, 11, 9, 12], [6, 15, 7, 13, 9, 3, 5, 10, 12, 14, 4, 2, 8, 1, 11], [4, 8, 11, 15, 1, 9, 2, 12, 6, 14, 5, 13, 7, 10, 3], [11, 9, 3, 12, 14, 7, 15, 4, 10, 8, 5, 6, 13, 1, 2], [4, 3, 13, 14, 2, 7, 15, 6, 5, 9, 10, 12, 1, 11, 8], [12, 15, 6, 7, 11, 10, 14, 2, 5, 9, 1, 4, 13, 3, 8]]\n"
     ]
    }
   ],
   "source": [
    "n = int(input('Enter the number of jobs : '))\n",
    "m = int(input('Enter the number of machines : '))\n",
    "processing_time_matrix = []\n",
    "ordering_matrix = []\n",
    "\n",
    "ptm = input('Enter the processing time matrix : ')\n",
    "om = input('Enter the ordering matrix : ')\n",
    "\n",
    "#IMPLEMENTING G&T ALGORITHM\n",
    "\n",
    "ptm = ptm.split(' ')\n",
    "om = om.split(' ')\n",
    "\n",
    "k=0\n",
    "for i in range(0,n):\n",
    "    temp = []\n",
    "    for j in range(0,m):\n",
    "        processing_time = int(ptm[k])\n",
    "        temp.append(processing_time)\n",
    "        k=k+1\n",
    "    processing_time_matrix.append(temp)\n",
    "\n",
    "k=0\n",
    "for i in range(0,n):\n",
    "    temp = []\n",
    "    for j in range(0,m):\n",
    "        order = int(om[k])\n",
    "        temp.append(order)\n",
    "        k=k+1\n",
    "    ordering_matrix.append(temp)\n",
    "\n",
    "print()\n",
    "print('----- PROCESSING MATRIX -----')\n",
    "print(processing_time_matrix)\n",
    "\n",
    "print()\n",
    "print('----- ODERING MATRIX -----')\n",
    "print(ordering_matrix)\n"
   ]
  },
  {
   "cell_type": "code",
   "execution_count": 3,
   "metadata": {},
   "outputs": [],
   "source": [
    "def make_population():\n",
    "    \n",
    "    S= []\n",
    "    curr_time = 0\n",
    "    \n",
    "    #STEP 1\n",
    "    set_A = []\n",
    "    for i in range(0,n):\n",
    "        for j in range(0,m):\n",
    "            if ordering_matrix[i][j] == 1:\n",
    "                set_A.append([0,i,j])\n",
    "    \n",
    "    while len(set_A) != 0:\n",
    "        #STEP 2\n",
    "        length_A = len(set_A)\n",
    "        min_value = INT_MAX\n",
    "        for i in range(0,length_A):\n",
    "            a = set_A[i][1]\n",
    "            b = set_A[i][2]\n",
    "            processing_time = processing_time_matrix[a][b]\n",
    "            if set_A[i][0] + processing_time < min_value:\n",
    "                min_value = set_A[i][0] + processing_time\n",
    "        #STEP 3\n",
    "        M = []\n",
    "        for i in range(0,length_A):\n",
    "            if set_A[i][0] < min_value:\n",
    "                M.append(set_A[i][2])\n",
    "        #STEP 4\n",
    "        G = []\n",
    "        set_machines = set(M)\n",
    "        random_machine = random.randint(0,len(set_machines)-1)\n",
    "        random_machine = M[random_machine]\n",
    "        for i in range(0,length_A):\n",
    "            if set_A[i][2] == random_machine:\n",
    "                G.append(set_A[i])\n",
    "            \n",
    "        #STEP 5\n",
    "        length_G = len(G)\n",
    "        max_earlist_time = 0\n",
    "        element = []\n",
    "        for i in range(0,length_G):\n",
    "            if G[i][2] == random_machine:\n",
    "                earlist_time = 0\n",
    "                b = random_machine\n",
    "                a = G[i][1]\n",
    "                order_number = ordering_matrix[a][b]\n",
    "                for j in range(0,m):\n",
    "                    if ordering_matrix[a][j] >= order_number:\n",
    "                        earlist_time = earlist_time + processing_time_matrix[a][j]\n",
    "                if earlist_time > max_earlist_time:\n",
    "                    max_earlist_time = earlist_time\n",
    "                    element = G[i]\n",
    "            \n",
    "        S.append(element[1])\n",
    "        curr_time = curr_time + processing_time_matrix[element[1]][random_machine]\n",
    "        next_order_number = ordering_matrix[element[1]][random_machine]+1\n",
    "\n",
    "        for k in range(0,m):\n",
    "            if ordering_matrix[element[1]][k] == next_order_number:\n",
    "                set_A.append([curr_time,element[1],k])\n",
    "        set_A.remove(element)\n",
    "        G.remove(element)\n",
    "    return S"
   ]
  },
  {
   "cell_type": "code",
   "execution_count": 4,
   "metadata": {},
   "outputs": [
    {
     "name": "stdout",
     "output_type": "stream",
     "text": [
      "Enter the population size : 50\n"
     ]
    }
   ],
   "source": [
    "population_size = int(input('Enter the population size : '))\n",
    "population = []\n",
    "for i in range(0,population_size):\n",
    "    population.append(make_population())"
   ]
  },
  {
   "cell_type": "code",
   "execution_count": 5,
   "metadata": {},
   "outputs": [],
   "source": [
    "def changeToReal(population):\n",
    "    n = len(population)\n",
    "    m = len(population[0])\n",
    "    for i in range(0,n):\n",
    "        for j in range(0,m):\n",
    "            population[i][j] = round(population[i][j] +random.random(),5)\n",
    "    return population"
   ]
  },
  {
   "cell_type": "code",
   "execution_count": 6,
   "metadata": {},
   "outputs": [],
   "source": [
    "real_population = changeToReal(population)"
   ]
  },
  {
   "cell_type": "code",
   "execution_count": 7,
   "metadata": {},
   "outputs": [
    {
     "name": "stdout",
     "output_type": "stream",
     "text": [
      "Enter the number of iterations of IPSO : 1000\n"
     ]
    }
   ],
   "source": [
    "number_iterations = int(input('Enter the number of iterations of IPSO : '))"
   ]
  },
  {
   "cell_type": "code",
   "execution_count": 8,
   "metadata": {},
   "outputs": [],
   "source": [
    "def calculateMakeSpan(schedule):\n",
    "    job_schedule = []\n",
    "    machine_free = []\n",
    "    operation_no = []\n",
    "    \n",
    "    for i in range(0,n):\n",
    "        job_schedule.append(0)\n",
    "        operation_no.append(0)\n",
    "    \n",
    "    for i in range(0,m):\n",
    "        machine_free.append(0)\n",
    "    \n",
    "    timer = 0\n",
    "    \n",
    "    while(True):\n",
    "        flag = True\n",
    "        \n",
    "        for s in schedule:\n",
    "            if s != -1:\n",
    "                flag = False\n",
    "       \n",
    "        if flag == True:\n",
    "            break\n",
    "        \n",
    "        for i in range(0,len(schedule)):\n",
    "            s = int(schedule[i])\n",
    "            if s != -1:\n",
    "                if timer > job_schedule[s]:\n",
    "                    machine = int(findMachine(s,operation_no[s]+1))\n",
    "                    if timer > machine_free[machine]:\n",
    "                        machine_free[machine] = timer + processing_time_matrix[s][machine]\n",
    "                        job_schedule[s] = timer + processing_time_matrix[s][machine]\n",
    "                        schedule[i] = -1\n",
    "                        operation_no[s] = operation_no[s]+1\n",
    "        timer = timer+1\n",
    "        \n",
    "    makespan = 0\n",
    "    for i in job_schedule:\n",
    "        if i > makespan:\n",
    "            makespan = i\n",
    "    return makespan\n",
    "\n",
    "def findMachine(s,on):\n",
    "    for j in range(0,m):\n",
    "        if ordering_matrix[s][j] == on:\n",
    "            return j\n",
    "    return 1    "
   ]
  },
  {
   "cell_type": "code",
   "execution_count": 9,
   "metadata": {},
   "outputs": [],
   "source": [
    "def isValid(schedule):\n",
    "    jobs = []\n",
    "    for i in range(0,n):\n",
    "        jobs.append(0)\n",
    "    for s in schedule:\n",
    "        temp = int(s)\n",
    "        jobs[temp] = jobs[temp]+1\n",
    "    for i in range(0,n):\n",
    "        if jobs[i] != m:\n",
    "            print(jobs)\n",
    "            return False\n",
    "    return True"
   ]
  },
  {
   "cell_type": "code",
   "execution_count": 42,
   "metadata": {},
   "outputs": [
    {
     "name": "stdout",
     "output_type": "stream",
     "text": [
      "[2234, 2013, 2188, 2151, 1977, 2119, 2144, 2162, 2032, 2082, 2092, 1977, 2262, 2024, 2095, 2061, 2077, 2038, 2076, 1967, 2039, 2063, 2272, 2037, 2043, 2049, 2087, 2009, 2115, 1929, 2061, 2016, 1997, 2028, 2095, 2187, 2105, 2023, 2137, 2039, 1962, 2105, 2090, 2234, 2090, 1982, 1963, 2113, 2095, 2128]\n",
      "1929\n",
      "[11.7837, 13.78661, 19.01699, 7.55973, 7.85605, 6.08656, 1.29079, 10.86897, 3.45033, 12.27148, 9.55926, 13.82785, 14.19509, 17.49825, 2.99383, 16.96593, 5.27339, 18.19216, 11.62478, 2.85669, 8.42684, 4.5741, 0.09507, 15.26734, 10.61148, 7.63915, 8.36833, 19.18909, 6.19516, 1.04821, 3.99143, 13.85082, 12.69246, 11.58243, 9.88856, 8.90809, 14.12572, 17.30389, 16.24401, 17.43777, 4.99819, 5.44621, 6.29545, 11.00687, 18.46872, 2.5398, 0.61278, 6.04151, 12.00134, 1.37252, 15.90081, 10.41501, 17.35819, 11.31948, 7.22395, 19.86779, 3.10428, 13.83561, 16.45466, 9.12198, 8.46102, 14.41386, 13.93872, 17.14224, 4.99424, 5.61643, 18.96141, 2.19506, 6.81617, 0.75073, 12.48823, 9.9216, 1.68652, 11.54629, 15.0309, 16.19091, 10.12864, 7.43787, 17.48622, 19.57577, 3.69685, 8.33138, 13.38312, 14.98046, 0.78848, 6.25892, 4.02024, 5.07475, 18.67959, 13.33123, 6.43793, 4.6217, 2.45533, 16.09285, 12.99884, 1.89579, 11.49673, 8.29895, 9.83485, 9.94615, 15.74866, 7.80425, 10.35113, 3.41024, 17.40771, 16.84944, 19.00168, 0.4138, 14.79466, 18.21915, 5.09239, 6.64751, 10.19288, 13.30187, 3.45223, 17.65223, 4.9749, 9.91863, 2.39647, 12.86087, 1.18047, 8.39887, 11.00243, 15.75108, 0.43403, 7.37337, 16.76293, 19.97072, 14.86937, 10.39349, 18.78025, 5.26107, 8.62748, 5.74948, 7.76423, 6.73701, 13.7969, 3.17005, 12.14687, 17.47578, 17.149, 4.45417, 4.60523, 0.00397, 2.23679, 8.89535, 9.20384, 1.7226, 11.08107, 17.92233, 15.23575, 19.14951, 12.24915, 16.78119, 14.14943, 18.54771, 10.53896, 0.68687, 5.68847, 7.38317, 6.43634, 13.9621, 3.54583, 4.6994, 8.90318, 2.03447, 14.47712, 9.201, 11.40708, 1.9993, 12.80458, 15.18716, 8.94122, 17.28381, 19.9505, 10.41844, 0.2444, 18.60239, 4.52066, 16.86643, 13.48317, 5.70437, 6.58909, 7.90065, 3.14924, 14.8973, 2.52603, 11.23171, 11.42281, 9.10582, 1.04208, 12.28364, 1.62785, 13.86296, 8.71782, 17.56687, 15.06438, 19.93501, 0.07043, 0.45221, 10.99787, 18.73785, 4.45015, 5.05223, 4.01413, 16.17516, 11.71971, 6.88813, 7.91024, 19.20122, 14.41349, 3.72466, 19.68216, 2.16684, 9.13322, 18.90859, 1.95485, 12.04563, 19.13533, 13.6474, 8.3567, 17.48059, 15.31596, 0.92942, 10.48856, 5.31429, 16.90774, 4.1337, 14.63669, 6.94023, 19.39323, 12.05312, 11.95435, 19.82262, 7.05691, 3.93913, 0.3186, 2.06873, 5.49747, 7.49142, 9.65857, 10.47297, 0.50709, 14.82884, 1.66224, 18.50815, 3.79264, 8.75352, 10.64897, 13.35403, 1.34019, 16.69285, 15.52495, 17.92442, 18.20122, 2.90685, 4.96798, 6.47858, 12.03322, 19.4878, 11.08738, 7.99038, 5.49574, 9.87432, 18.54987, 14.61216, 0.4566, 3.80825, 12.76301, 8.11514, 10.79936, 13.71803, 1.10266, 15.38801, 7.77326, 16.39044, 2.08671, 4.40386, 15.90145, 6.64748, 5.17351, 1.16488, 9.5732, 3.69181, 18.22348, 14.45326, 12.40937, 3.91339, 10.68813, 16.35978, 2.94899, 15.92858, 5.75436, 9.2027, 18.96873, 14.58324, 16.72086, 2.92834, 15.79282, 15.71101]\n"
     ]
    }
   ],
   "source": [
    "#START To IMPLEMENT IPSO\n",
    "p_best_span = []\n",
    "p_best = population[:]\n",
    "R = []\n",
    "g_best_span = INT_MAX\n",
    "g_best =[]\n",
    "for p in population:\n",
    "    make_span = calculateMakeSpan2(p[:])\n",
    "    p_best_span.append(make_span)\n",
    "    if make_span < g_best_span:\n",
    "        g_best_span = make_span\n",
    "        g_best = p[:]\n",
    "    R.append(findR(p[:],g_best[:]))\n",
    "print(p_best_span)\n",
    "print(g_best_span)\n",
    "print(g_best)"
   ]
  },
  {
   "cell_type": "code",
   "execution_count": 43,
   "metadata": {},
   "outputs": [],
   "source": [
    "def findR(p_best,g_best):\n",
    "    rand1 = round(random.random(),5)\n",
    "    rand2 = round(random.random(),5)\n",
    "    c1 = c2 = 1.4\n",
    "    alpha = 0.5\n",
    "    temp = []\n",
    "    for i in range(0,len(p_best)):\n",
    "        a = ((1-alpha)*c1*rand1*p_best[i]+alpha*c2*rand2*g_best[i])/((1-alpha)*c1*rand1+alpha*c2*rand2)\n",
    "        temp.append(round(a,5))\n",
    "    return temp"
   ]
  },
  {
   "cell_type": "code",
   "execution_count": 195,
   "metadata": {},
   "outputs": [
    {
     "data": {
      "image/png": "[encoded data removed]",
      "text/plain": [
       "<Figure size 432x288 with 1 Axes>"
      ]
     },
     "metadata": {
      "needs_background": "light"
     },
     "output_type": "display_data"
    }
   ],
   "source": [
    "Beta = []\n",
    "x_axis = []\n",
    "for i in range(1,number_iterations):\n",
    "    temp = math.log((i)/(number_iterations*random.random()))\n",
    "    Beta.append(temp)\n",
    "    x_axis.append(i)\n",
    "plt.plot(x_axis,Beta)\n",
    "plt.show()"
   ]
  },
  {
   "cell_type": "code",
   "execution_count": null,
   "metadata": {},
   "outputs": [],
   "source": [
    "g_graph_x = []\n",
    "g_graph_y = []\n",
    "for i in range(0,number_iterations):\n",
    "    alpha = ((i+1)/number_iterations)\n",
    "    g_graph_x.append(i)\n",
    "    g_graph_y.append(g_best_span)\n",
    "    for k in range(0,len(population)):\n",
    "        temp = []\n",
    "        r = population[k]\n",
    "        random_number = random.random()\n",
    "        if random_number > 0.5:\n",
    "            r = p_best[k]\n",
    "        else:\n",
    "            ml = random.randint(0,len(population)-1)\n",
    "            r = p_best[ml]\n",
    "        for j in range(0,len(population[k])):\n",
    "            beta = round(math.log(1+((i+1)/number_iterations*random.random())),5)\n",
    "            a = R[k][j] + alpha*abs(beta) * (r[j]-population[k][j])\n",
    "            temp.append(a)\n",
    "        temp2 = encode(temp)\n",
    "        if(isValid(temp2)):\n",
    "            makespan = calculateMakeSpan(temp2)\n",
    "            if makespan < g_best_span:\n",
    "                g_best_span = makespan\n",
    "                g_best = temp\n",
    "                tabuSearch(g_best,g_best_span)\n",
    "            if makespan < p_best_span[k]:\n",
    "                p_best_span[k] = makespan\n",
    "                p_best[k] = temp\n",
    "        else:\n",
    "            print('not a valid schedule')\n",
    "        R[k] = findR(p_best[k][:],g_best[:])"
   ]
  },
  {
   "cell_type": "code",
   "execution_count": 45,
   "metadata": {},
   "outputs": [],
   "source": [
    "def encode(schedule):\n",
    "    temp = sorted(schedule)\n",
    "    encoded = []\n",
    "    for i in range(0,len(schedule)):\n",
    "        k = temp.index(schedule[i])\n",
    "        encoded.append(k+1)\n",
    "    for i in range(0,len(encoded)):\n",
    "        encoded[i] = math.ceil(encoded[i]/m)-1\n",
    "    return encoded"
   ]
  },
  {
   "cell_type": "code",
   "execution_count": 49,
   "metadata": {},
   "outputs": [
    {
     "name": "stdout",
     "output_type": "stream",
     "text": [
      "[1916, 1973, 1916, 1916, 1916, 1945, 1916, 1914, 1911, 2015, 1916, 1977, 1916, 1916, 1916, 1916, 1916, 1875, 1916, 1875, 1909, 1875, 1916, 1875, 2043, 1916, 1929, 1905, 1933, 1875, 1916, 1916, 1948, 1916, 1916, 1970, 1911, 1875, 1900, 1929, 1962, 1929, 1929, 1929, 2036, 1982, 1916, 2113, 1916, 1929]\n",
      "1875\n"
     ]
    },
    {
     "data": {
      "text/plain": [
       "[<matplotlib.lines.Line2D at 0x7f5df265a278>]"
      ]
     },
     "execution_count": 49,
     "metadata": {},
     "output_type": "execute_result"
    },
    {
     "data": {
      "image/png": "[encoded data removed]",
      "text/plain": [
       "<Figure size 432x288 with 1 Axes>"
      ]
     },
     "metadata": {
      "needs_background": "light"
     },
     "output_type": "display_data"
    }
   ],
   "source": [
    "print(p_best_span)\n",
    "print(g_best_span)\n",
    "g_best_span2 = calculateMakeSpan2(encode(g_best))\n",
    "plt.plot(g_graph_x,g_graph_y)"
   ]
  },
  {
   "cell_type": "code",
   "execution_count": 47,
   "metadata": {},
   "outputs": [],
   "source": [
    "#IMPLEMENT TABU SEARCH\n",
    "def tabuSearch(g_best,g_best_span):\n",
    "    g_best_encoded = encode(g_best)\n",
    "    for i in range(0,len(g_best_encoded)-1):\n",
    "        if(g_best_encoded[i]!=g_best_encoded[i+1]):\n",
    "            temp = g_best_encoded\n",
    "            a = temp[i]\n",
    "            temp[i] = temp[i+1]\n",
    "            temp[i+1] = a\n",
    "            span = calculateMakeSpan(temp)\n",
    "            if span < g_best_span:\n",
    "                g_best_span = span\n",
    "                b = g_best[i]\n",
    "                g_best[i] = g_best[i+1]\n",
    "                g_best[i+1] = b"
   ]
  },
  {
   "cell_type": "code",
   "execution_count": 11,
   "metadata": {},
   "outputs": [
    {
     "name": "stdout",
     "output_type": "stream",
     "text": [
      "[[[1, 8, 14], [2, 3, 76], [3, 5, 62], [4, 0, 25], [5, 6, 38], [6, 10, 46], [7, 12, 57], [8, 7, 59], [9, 14, 3], [10, 11, 31], [11, 4, 38], [12, 1, 75], [13, 9, 13], [14, 13, 92], [15, 2, 75]], [[1, 1, 5], [2, 5, 34], [3, 11, 55], [4, 2, 11], [5, 4, 40], [6, 0, 67], [7, 8, 35], [8, 9, 96], [9, 3, 11], [10, 12, 21], [11, 10, 22], [12, 14, 16], [13, 6, 77], [14, 13, 29], [15, 7, 42]], [[1, 3, 35], [2, 13, 29], [3, 0, 22], [4, 1, 98], [5, 7, 46], [6, 6, 13], [7, 14, 70], [8, 8, 52], [9, 10, 18], [10, 4, 59], [11, 9, 22], [12, 11, 19], [13, 5, 31], [14, 12, 64], [15, 2, 8]], [[1, 12, 27], [2, 2, 2], [3, 8, 21], [4, 4, 11], [5, 5, 92], [6, 9, 56], [7, 13, 19], [8, 11, 43], [9, 0, 99], [10, 7, 97], [11, 1, 42], [12, 10, 17], [13, 14, 23], [14, 3, 35], [15, 6, 88]], [[1, 10, 39], [2, 2, 59], [3, 3, 71], [4, 12, 52], [5, 7, 35], [6, 9, 2], [7, 8, 12], [8, 14, 35], [9, 1, 5], [10, 5, 39], [11, 4, 47], [12, 13, 65], [13, 6, 82], [14, 11, 42], [15, 0, 50]], [[1, 5, 64], [2, 2, 5], [3, 10, 34], [4, 0, 48], [5, 14, 54], [6, 3, 2], [7, 4, 60], [8, 7, 3], [9, 6, 86], [10, 13, 63], [11, 1, 57], [12, 8, 51], [13, 12, 45], [14, 9, 26], [15, 11, 39]], [[1, 5, 99], [2, 2, 50], [3, 0, 40], [4, 11, 54], [5, 10, 67], [6, 12, 29], [7, 7, 34], [8, 6, 67], [9, 4, 46], [10, 13, 30], [11, 1, 43], [12, 14, 60], [13, 3, 71], [14, 9, 95], [15, 8, 6]], [[1, 1, 3], [2, 0, 59], [3, 2, 85], [4, 7, 82], [5, 3, 6], [6, 9, 71], [7, 10, 48], [8, 4, 46], [9, 13, 65], [10, 12, 62], [11, 14, 76], [12, 6, 5], [13, 8, 18], [14, 5, 49], [15, 11, 79]], [[1, 11, 87], [2, 7, 69], [3, 6, 97], [4, 9, 89], [5, 0, 65], [6, 1, 55], [7, 5, 52], [8, 4, 32], [9, 12, 22], [10, 2, 81], [11, 3, 15], [12, 14, 63], [13, 8, 82], [14, 10, 69], [15, 13, 71]], [[1, 5, 81], [2, 0, 70], [3, 14, 50], [4, 2, 52], [5, 1, 74], [6, 10, 67], [7, 6, 24], [8, 12, 18], [9, 9, 39], [10, 13, 77], [11, 3, 94], [12, 8, 32], [13, 11, 59], [14, 7, 14], [15, 4, 14]], [[1, 3, 53], [2, 2, 96], [3, 10, 64], [4, 0, 18], [5, 8, 14], [6, 12, 89], [7, 7, 18], [8, 9, 90], [9, 5, 99], [10, 4, 35], [11, 1, 6], [12, 13, 48], [13, 11, 81], [14, 14, 80], [15, 6, 39]], [[1, 9, 93], [2, 8, 30], [3, 0, 44], [4, 4, 74], [5, 7, 75], [6, 5, 59], [7, 2, 12], [8, 1, 75], [9, 3, 13], [10, 10, 26], [11, 11, 30], [12, 13, 91], [13, 14, 93], [14, 12, 84], [15, 6, 71]], [[1, 0, 39], [2, 9, 48], [3, 11, 46], [4, 7, 7], [5, 10, 22], [6, 14, 17], [7, 8, 55], [8, 1, 56], [9, 3, 29], [10, 6, 26], [11, 5, 69], [12, 12, 50], [13, 4, 55], [14, 13, 96], [15, 2, 13]], [[1, 5, 53], [2, 4, 95], [3, 9, 90], [4, 1, 14], [5, 3, 13], [6, 8, 92], [7, 7, 24], [8, 12, 43], [9, 13, 75], [10, 2, 8], [11, 6, 78], [12, 14, 94], [13, 0, 57], [14, 11, 87], [15, 10, 68]], [[1, 7, 83], [2, 6, 56], [3, 10, 97], [4, 0, 93], [5, 11, 48], [6, 3, 28], [7, 2, 18], [8, 9, 15], [9, 13, 78], [10, 5, 40], [11, 12, 53], [12, 14, 39], [13, 8, 51], [14, 4, 27], [15, 1, 92]], [[1, 13, 59], [2, 11, 92], [3, 5, 11], [4, 10, 20], [5, 6, 30], [6, 0, 47], [7, 2, 42], [8, 12, 19], [9, 4, 11], [10, 7, 14], [11, 14, 28], [12, 8, 10], [13, 3, 28], [14, 9, 4], [15, 1, 34]], [[1, 4, 27], [2, 6, 27], [3, 14, 68], [4, 0, 69], [5, 10, 18], [6, 8, 56], [7, 12, 98], [8, 1, 82], [9, 5, 82], [10, 13, 43], [11, 2, 64], [12, 7, 43], [13, 11, 20], [14, 9, 17], [15, 3, 40]], [[1, 13, 44], [2, 14, 20], [3, 2, 87], [4, 7, 89], [5, 10, 12], [6, 11, 51], [7, 5, 23], [8, 9, 84], [9, 1, 26], [10, 8, 49], [11, 0, 84], [12, 3, 61], [13, 12, 3], [14, 4, 95], [15, 6, 88]], [[1, 12, 73], [2, 4, 70], [3, 1, 54], [4, 0, 43], [5, 8, 59], [6, 7, 22], [7, 5, 28], [8, 14, 45], [9, 9, 36], [10, 10, 85], [11, 13, 29], [12, 11, 13], [13, 2, 18], [14, 3, 72], [15, 6, 20]], [[1, 10, 40], [2, 7, 95], [3, 13, 34], [4, 11, 23], [5, 8, 66], [6, 2, 4], [7, 3, 22], [8, 14, 8], [9, 9, 14], [10, 5, 45], [11, 4, 74], [12, 0, 7], [13, 12, 79], [14, 6, 62], [15, 1, 97]]]\n"
     ]
    }
   ],
   "source": [
    "matrix = []\n",
    "def makeMatrix():\n",
    "    for j in range(0,n):\n",
    "        temp = []\n",
    "        for i in range (1,m+1):\n",
    "            k = ordering_matrix[j].index(i)\n",
    "            temp.append([i,k,processing_time_matrix[j][k]])\n",
    "        matrix.append(temp)\n",
    "makeMatrix()\n",
    "print(matrix)"
   ]
  },
  {
   "cell_type": "code",
   "execution_count": 41,
   "metadata": {},
   "outputs": [],
   "source": [
    "def calculateMakeSpan2(schedule):\n",
    "    machine_time = []\n",
    "    job_time = []\n",
    "    job_order = []\n",
    "    for i in range(0,n):\n",
    "        job_time.append(0)\n",
    "        job_order.append(0)\n",
    "    for i in range(0,m):\n",
    "        machine_time.append(0)\n",
    "    \n",
    "    for jobs in schedule:\n",
    "        job = int(jobs)\n",
    "        order = job_order[job]\n",
    "        jobTime = job_time[job]\n",
    "        if order < m:\n",
    "            machine = matrix[job][order]\n",
    "            machineTime = machine_time[machine[1]]\n",
    "            time = max(jobTime,machineTime)+matrix[job][order][2]\n",
    "            job_time[job] = machine_time[machine[1]] = time\n",
    "            job_order[job] = job_order[job]+1\n",
    "    \n",
    "    span = 0\n",
    "    \n",
    "    for i in job_time:\n",
    "        if i > span:\n",
    "            span = i\n",
    "    return span"
   ]
  }
 ],
 "metadata": {
  "kernelspec": {
   "display_name": "Python 3",
   "language": "python",
   "name": "python3"
  },
  "language_info": {
   "codemirror_mode": {
    "name": "ipython",
    "version": 3
   },
   "file_extension": ".py",
   "mimetype": "text/x-python",
   "name": "python",
   "nbconvert_exporter": "python",
   "pygments_lexer": "ipython3",
   "version": "3.7.3"
  }
 },
 "nbformat": 4,
 "nbformat_minor": 2
}
