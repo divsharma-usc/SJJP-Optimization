{
 "cells": [
  {
   "cell_type": "code",
   "execution_count": 64,
   "metadata": {},
   "outputs": [],
   "source": [
    "import sys\n",
    "import random\n",
    "import copy\n",
    "import math\n",
    "from matplotlib import pyplot as plt\n",
    "INT_MAX = sys.maxsize"
   ]
  },
  {
   "cell_type": "code",
   "execution_count": 3,
   "metadata": {},
   "outputs": [
    {
     "name": "stdout",
     "output_type": "stream",
     "text": [
      "Enter the number of jobs : 20\n",
      "Enter the number of machines : 15\n",
      "Enter the processing time matrix : 25 75 75 76 38 62 38 59 14 13 46 31 57 92 3 67 5 11 11 40 34 77 42 35 96 22 55 21 29 16 22 98 8 35 59 31 13 46 52 22 18 19 64 29 70 99 42 2 35 11 92 88 97 21 56 17 43 27 19 23 50 5 59 71 47 39 82 35 12 2 39 42 52 65 35 48 57 5 2 60 64 86 3 51 26 34 39 45 63 54 40 43 50 71 46 99 67 34 6 95 67 54 29 30 60 59 3 85 6 46 49 5 82 18 71 48 79 62 65 76 65 55 81 15 32 52 97 69 82 89 69 87 22 71 63 70 74 52 94 14 81 24 14 32 39 67 59 18 77 50 18 6 96 53 35 99 39 18 14 90 64 81 89 48 80 44 75 12 13 74 59 71 75 30 93 26 30 84 91 93 39 56 13 29 55 69 26 7 55 48 22 46 50 96 17 57 14 8 13 95 53 78 24 92 90 68 87 43 75 94 93 92 18 28 27 40 56 83 51 15 97 48 53 78 39 47 34 42 28 11 11 30 14 10 4 20 92 19 59 28 69 82 64 40 27 82 27 43 56 17 18 20 98 43 68 84 26 87 61 95 23 88 89 49 84 12 51 3 44 20 43 54 18 72 70 28 20 22 59 36 85 13 73 29 45 7 97 4 22 74 45 62 95 66 14 40 23 79 34 8\n",
      "Enter the ordering matrix : 4 12 15 2 11 3 5 8 1 13 6 10 7 14 9 6 1 4 9 5 2 13 15 7 8 11 3 10 14 12 3 4 15 1 10 13 6 5 8 11 9 12 14 2 7 9 11 2 14 4 5 15 10 3 6 12 8 1 7 13 15 9 2 3 11 10 13 5 7 6 1 14 4 12 8 4 11 2 6 7 1 9 8 12 14 3 15 13 10 5 3 11 2 13 9 1 8 7 15 14 5 4 6 10 12 2 1 3 5 8 14 12 4 13 6 7 15 10 9 11 5 6 10 11 8 7 3 2 13 4 14 1 9 15 12 2 5 4 11 15 1 7 14 12 9 6 13 8 10 3 4 11 2 1 10 9 15 7 5 8 3 13 6 12 14 3 8 7 9 4 6 15 5 2 1 10 11 14 12 13 1 8 15 9 13 11 10 4 7 2 5 3 12 14 6 13 4 10 5 2 1 11 7 6 3 15 14 8 9 12 4 15 7 6 14 10 2 1 13 8 3 5 11 9 12 6 15 7 13 9 3 5 10 12 14 4 2 8 1 11 4 8 11 15 1 9 2 12 6 14 5 13 7 10 3 11 9 3 12 14 7 15 4 10 8 5 6 13 1 2 4 3 13 14 2 7 15 6 5 9 10 12 1 11 8 12 15 6 7 11 10 14 2 5 9 1 4 13 3 8\n",
      "\n",
      "----- PROCESSING MATRIX -----\n",
      "[[25, 75, 75, 76, 38, 62, 38, 59, 14, 13, 46, 31, 57, 92, 3], [67, 5, 11, 11, 40, 34, 77, 42, 35, 96, 22, 55, 21, 29, 16], [22, 98, 8, 35, 59, 31, 13, 46, 52, 22, 18, 19, 64, 29, 70], [99, 42, 2, 35, 11, 92, 88, 97, 21, 56, 17, 43, 27, 19, 23], [50, 5, 59, 71, 47, 39, 82, 35, 12, 2, 39, 42, 52, 65, 35], [48, 57, 5, 2, 60, 64, 86, 3, 51, 26, 34, 39, 45, 63, 54], [40, 43, 50, 71, 46, 99, 67, 34, 6, 95, 67, 54, 29, 30, 60], [59, 3, 85, 6, 46, 49, 5, 82, 18, 71, 48, 79, 62, 65, 76], [65, 55, 81, 15, 32, 52, 97, 69, 82, 89, 69, 87, 22, 71, 63], [70, 74, 52, 94, 14, 81, 24, 14, 32, 39, 67, 59, 18, 77, 50], [18, 6, 96, 53, 35, 99, 39, 18, 14, 90, 64, 81, 89, 48, 80], [44, 75, 12, 13, 74, 59, 71, 75, 30, 93, 26, 30, 84, 91, 93], [39, 56, 13, 29, 55, 69, 26, 7, 55, 48, 22, 46, 50, 96, 17], [57, 14, 8, 13, 95, 53, 78, 24, 92, 90, 68, 87, 43, 75, 94], [93, 92, 18, 28, 27, 40, 56, 83, 51, 15, 97, 48, 53, 78, 39], [47, 34, 42, 28, 11, 11, 30, 14, 10, 4, 20, 92, 19, 59, 28], [69, 82, 64, 40, 27, 82, 27, 43, 56, 17, 18, 20, 98, 43, 68], [84, 26, 87, 61, 95, 23, 88, 89, 49, 84, 12, 51, 3, 44, 20], [43, 54, 18, 72, 70, 28, 20, 22, 59, 36, 85, 13, 73, 29, 45], [7, 97, 4, 22, 74, 45, 62, 95, 66, 14, 40, 23, 79, 34, 8]]\n",
      "\n",
      "----- ODERING MATRIX -----\n",
      "[[4, 12, 15, 2, 11, 3, 5, 8, 1, 13, 6, 10, 7, 14, 9], [6, 1, 4, 9, 5, 2, 13, 15, 7, 8, 11, 3, 10, 14, 12], [3, 4, 15, 1, 10, 13, 6, 5, 8, 11, 9, 12, 14, 2, 7], [9, 11, 2, 14, 4, 5, 15, 10, 3, 6, 12, 8, 1, 7, 13], [15, 9, 2, 3, 11, 10, 13, 5, 7, 6, 1, 14, 4, 12, 8], [4, 11, 2, 6, 7, 1, 9, 8, 12, 14, 3, 15, 13, 10, 5], [3, 11, 2, 13, 9, 1, 8, 7, 15, 14, 5, 4, 6, 10, 12], [2, 1, 3, 5, 8, 14, 12, 4, 13, 6, 7, 15, 10, 9, 11], [5, 6, 10, 11, 8, 7, 3, 2, 13, 4, 14, 1, 9, 15, 12], [2, 5, 4, 11, 15, 1, 7, 14, 12, 9, 6, 13, 8, 10, 3], [4, 11, 2, 1, 10, 9, 15, 7, 5, 8, 3, 13, 6, 12, 14], [3, 8, 7, 9, 4, 6, 15, 5, 2, 1, 10, 11, 14, 12, 13], [1, 8, 15, 9, 13, 11, 10, 4, 7, 2, 5, 3, 12, 14, 6], [13, 4, 10, 5, 2, 1, 11, 7, 6, 3, 15, 14, 8, 9, 12], [4, 15, 7, 6, 14, 10, 2, 1, 13, 8, 3, 5, 11, 9, 12], [6, 15, 7, 13, 9, 3, 5, 10, 12, 14, 4, 2, 8, 1, 11], [4, 8, 11, 15, 1, 9, 2, 12, 6, 14, 5, 13, 7, 10, 3], [11, 9, 3, 12, 14, 7, 15, 4, 10, 8, 5, 6, 13, 1, 2], [4, 3, 13, 14, 2, 7, 15, 6, 5, 9, 10, 12, 1, 11, 8], [12, 15, 6, 7, 11, 10, 14, 2, 5, 9, 1, 4, 13, 3, 8]]\n"
     ]
    }
   ],
   "source": [
    "n = int(input('Enter the number of jobs : '))\n",
    "m = int(input('Enter the number of machines : '))\n",
    "processing_time_matrix = []\n",
    "ordering_matrix = []\n",
    "\n",
    "ptm = input('Enter the processing time matrix : ')\n",
    "om = input('Enter the ordering matrix : ')\n",
    "\n",
    "#IMPLEMENTING G&T ALGORITHM\n",
    "\n",
    "ptm = ptm.split(' ')\n",
    "om = om.split(' ')\n",
    "\n",
    "k=0\n",
    "for i in range(0,n):\n",
    "    temp = []\n",
    "    for j in range(0,m):\n",
    "        processing_time = int(ptm[k])\n",
    "        temp.append(processing_time)\n",
    "        k=k+1\n",
    "    processing_time_matrix.append(temp)\n",
    "\n",
    "k=0\n",
    "for i in range(0,n):\n",
    "    temp = []\n",
    "    for j in range(0,m):\n",
    "        order = int(om[k])\n",
    "        temp.append(order)\n",
    "        k=k+1\n",
    "    ordering_matrix.append(temp)\n",
    "\n",
    "print()\n",
    "print('----- PROCESSING MATRIX -----')\n",
    "print(processing_time_matrix)\n",
    "\n",
    "print()\n",
    "print('----- ODERING MATRIX -----')\n",
    "print(ordering_matrix)\n"
   ]
  },
  {
   "cell_type": "code",
   "execution_count": 4,
   "metadata": {},
   "outputs": [],
   "source": [
    "def make_population():\n",
    "    \n",
    "    S= []\n",
    "    curr_time = 0\n",
    "    \n",
    "    #STEP 1\n",
    "    set_A = []\n",
    "    for i in range(0,n):\n",
    "        for j in range(0,m):\n",
    "            if ordering_matrix[i][j] == 1:\n",
    "                set_A.append([0,i,j])\n",
    "    \n",
    "    while len(set_A) != 0:\n",
    "        #STEP 2\n",
    "        length_A = len(set_A)\n",
    "        min_value = INT_MAX\n",
    "        for i in range(0,length_A):\n",
    "            a = set_A[i][1]\n",
    "            b = set_A[i][2]\n",
    "            processing_time = processing_time_matrix[a][b]\n",
    "            if set_A[i][0] + processing_time < min_value:\n",
    "                min_value = set_A[i][0] + processing_time\n",
    "        #STEP 3\n",
    "        M = []\n",
    "        for i in range(0,length_A):\n",
    "            if set_A[i][0] < min_value:\n",
    "                M.append(set_A[i][2])\n",
    "        #STEP 4\n",
    "        G = []\n",
    "        set_machines = set(M)\n",
    "        random_machine = random.randint(0,len(set_machines)-1)\n",
    "        random_machine = M[random_machine]\n",
    "        for i in range(0,length_A):\n",
    "            if set_A[i][2] == random_machine:\n",
    "                G.append(set_A[i])\n",
    "            \n",
    "        #STEP 5\n",
    "        length_G = len(G)\n",
    "        max_earlist_time = 0\n",
    "        element = []\n",
    "        for i in range(0,length_G):\n",
    "            if G[i][2] == random_machine:\n",
    "                earlist_time = 0\n",
    "                b = random_machine\n",
    "                a = G[i][1]\n",
    "                order_number = ordering_matrix[a][b]\n",
    "                for j in range(0,m):\n",
    "                    if ordering_matrix[a][j] >= order_number:\n",
    "                        earlist_time = earlist_time + processing_time_matrix[a][j]\n",
    "                if earlist_time > max_earlist_time:\n",
    "                    max_earlist_time = earlist_time\n",
    "                    element = G[i]\n",
    "            \n",
    "        S.append(element[1])\n",
    "        curr_time = curr_time + processing_time_matrix[element[1]][random_machine]\n",
    "        next_order_number = ordering_matrix[element[1]][random_machine]+1\n",
    "\n",
    "        for k in range(0,m):\n",
    "            if ordering_matrix[element[1]][k] == next_order_number:\n",
    "                set_A.append([curr_time,element[1],k])\n",
    "        set_A.remove(element)\n",
    "        G.remove(element)\n",
    "    return S"
   ]
  },
  {
   "cell_type": "code",
   "execution_count": 6,
   "metadata": {},
   "outputs": [
    {
     "name": "stdout",
     "output_type": "stream",
     "text": [
      "Enter the population size : 10\n"
     ]
    }
   ],
   "source": [
    "population_size = int(input('Enter the population size : '))\n",
    "population = []\n",
    "for i in range(0,population_size):\n",
    "    population.append(make_population())"
   ]
  },
  {
   "cell_type": "code",
   "execution_count": 7,
   "metadata": {},
   "outputs": [],
   "source": [
    "def changeToReal(population):\n",
    "    n = len(population)\n",
    "    m = len(population[0])\n",
    "    for i in range(0,n):\n",
    "        for j in range(0,m):\n",
    "            population[i][j] = round(population[i][j] +random.random(),5)\n",
    "    return population"
   ]
  },
  {
   "cell_type": "code",
   "execution_count": 8,
   "metadata": {},
   "outputs": [],
   "source": [
    "real_population = changeToReal(population)"
   ]
  },
  {
   "cell_type": "code",
   "execution_count": 66,
   "metadata": {},
   "outputs": [
    {
     "name": "stdout",
     "output_type": "stream",
     "text": [
      "Enter the number of iterations of IPSO : 1000\n"
     ]
    }
   ],
   "source": [
    "number_iterations = int(input('Enter the number of iterations of IPSO : '))"
   ]
  },
  {
   "cell_type": "code",
   "execution_count": 10,
   "metadata": {},
   "outputs": [],
   "source": [
    "def calculateMakeSpan(schedule):\n",
    "    job_schedule = []\n",
    "    machine_free = []\n",
    "    operation_no = []\n",
    "    \n",
    "    for i in range(0,n):\n",
    "        job_schedule.append(0)\n",
    "        operation_no.append(0)\n",
    "    \n",
    "    for i in range(0,m):\n",
    "        machine_free.append(0)\n",
    "    \n",
    "    timer = 0\n",
    "    \n",
    "    while(True):\n",
    "        flag = True\n",
    "        \n",
    "        for s in schedule:\n",
    "            if s != -1:\n",
    "                flag = False\n",
    "       \n",
    "        if flag == True:\n",
    "            break\n",
    "        \n",
    "        for i in range(0,len(schedule)):\n",
    "            s = int(schedule[i])\n",
    "            if s != -1:\n",
    "                if timer > job_schedule[s]:\n",
    "                    machine = int(findMachine(s,operation_no[s]+1))\n",
    "                    if timer > machine_free[machine]:\n",
    "                        machine_free[machine] = timer + processing_time_matrix[s][machine]\n",
    "                        job_schedule[s] = timer + processing_time_matrix[s][machine]\n",
    "                        schedule[i] = -1\n",
    "                        operation_no[s] = operation_no[s]+1\n",
    "        timer = timer+1\n",
    "        \n",
    "    makespan = 0\n",
    "    for i in job_schedule:\n",
    "        if i > makespan:\n",
    "            makespan = i\n",
    "    return makespan\n",
    "\n",
    "def findMachine(s,on):\n",
    "    for j in range(0,m):\n",
    "        if ordering_matrix[s][j] == on:\n",
    "            return j\n",
    "    return 1    "
   ]
  },
  {
   "cell_type": "code",
   "execution_count": 11,
   "metadata": {},
   "outputs": [],
   "source": [
    "def isValid(schedule):\n",
    "    jobs = []\n",
    "    for i in range(0,n):\n",
    "        jobs.append(0)\n",
    "    \n",
    "    for s in schedule:\n",
    "        temp = int(s)\n",
    "        jobs[temp] = jobs[temp]+1\n",
    "    print(jobs)\n",
    "    for i in range(0,n):\n",
    "        if jobs[i] != m:\n",
    "            return False\n",
    "    return True"
   ]
  },
  {
   "cell_type": "code",
   "execution_count": 13,
   "metadata": {},
   "outputs": [
    {
     "name": "stdout",
     "output_type": "stream",
     "text": [
      "[1730, 1688, 1766, 1736, 1772, 1814, 1734, 1720, 1674, 1793]\n",
      "1674\n",
      "[7.53405, 13.4475, 7.89532, 3.13492, 19.86133, 10.66154, 12.29865, 6.25895, 9.30861, 2.72453, 4.81557, 1.06234, 17.75129, 18.26355, 0.35142, 14.02609, 8.70937, 11.55306, 2.49006, 5.93081, 13.70133, 15.29774, 16.88626, 10.82129, 7.3686, 6.17396, 3.22506, 13.40506, 8.42845, 19.94462, 12.8158, 9.7935, 4.72593, 1.02006, 17.19443, 0.23012, 18.21226, 8.69968, 14.79402, 11.27625, 11.00056, 6.0919, 2.88754, 17.17317, 5.54144, 6.33877, 12.60499, 16.07841, 1.96006, 15.74919, 10.41121, 17.12993, 3.24032, 7.18021, 13.76994, 19.15681, 16.67186, 9.92824, 13.37426, 4.44065, 0.57397, 18.05898, 8.75472, 11.63578, 14.14793, 17.54728, 5.22457, 2.51251, 6.50191, 11.71335, 12.03852, 9.23511, 1.73167, 11.68905, 15.21022, 16.11158, 10.62374, 3.63009, 7.83546, 17.75425, 19.18281, 6.48812, 4.92903, 13.20849, 8.29253, 14.57191, 0.94814, 5.79222, 18.59315, 13.33164, 6.6386, 4.0068, 2.66093, 16.61355, 12.15102, 8.37266, 1.04411, 9.29107, 9.47942, 15.81376, 11.61225, 3.79637, 10.37945, 17.8305, 7.42946, 16.75302, 19.89833, 0.65104, 14.51216, 5.50667, 10.18048, 6.41353, 18.65889, 13.79779, 3.37362, 17.87437, 4.83197, 9.15012, 2.5378, 12.07757, 1.22125, 8.76532, 11.37929, 15.00447, 0.0485, 7.15663, 19.51824, 16.46448, 14.58354, 5.94087, 10.38135, 8.48537, 5.17346, 7.42623, 6.10451, 5.45669, 18.36014, 13.02552, 3.2192, 12.53518, 17.60964, 17.77467, 4.76014, 4.05072, 2.82125, 0.00808, 8.59045, 9.60224, 1.11089, 11.9559, 17.04697, 15.10774, 19.06585, 14.92388, 10.49645, 12.439, 16.57662, 7.42228, 10.9944, 6.2223, 5.89834, 18.14354, 13.19523, 3.44336, 4.41669, 2.29252, 0.27169, 14.66009, 8.29822, 9.64251, 11.50012, 1.7423, 12.94236, 8.05931, 17.93668, 19.36288, 15.33656, 7.5151, 4.18095, 16.87277, 6.31133, 10.42053, 14.85237, 9.33523, 0.13356, 5.074, 18.61124, 3.04305, 13.82896, 2.03144, 11.66557, 1.49203, 12.06585, 13.56202, 8.80618, 1.38552, 17.91866, 19.95632, 15.92909, 4.42159, 6.18313, 7.46506, 11.36048, 4.78584, 16.70659, 10.6499, 19.70002, 14.7486, 0.27582, 5.96695, 9.54853, 18.0571, 3.5738, 19.67309, 0.32106, 2.27187, 12.31083, 19.70099, 13.9391, 17.94474, 18.10602, 8.57427, 1.2093, 15.17249, 6.89078, 4.94133, 7.22447, 11.12886, 10.95425, 16.63327, 14.17309, 5.95438, 7.43279, 9.89295, 0.21427, 3.99485, 0.38025, 2.38338, 19.32784, 12.2582, 10.02341, 13.70852, 19.46617, 0.71844, 18.60523, 17.08912, 16.90919, 15.44569, 14.18484, 3.1318, 8.74787, 1.3506, 6.35637, 18.22396, 2.53858, 4.47697, 11.76703, 5.34156, 9.27153, 7.69791, 12.64664, 3.11424, 10.09936, 19.09412, 13.14104, 18.44853, 0.44045, 7.61245, 15.32527, 16.16907, 14.80451, 1.58438, 12.5557, 8.61217, 15.72911, 6.26275, 2.3492, 4.2699, 11.19855, 5.90048, 9.40858, 3.4225, 3.61241, 10.22653, 18.23109, 16.8764, 14.9693, 1.02091, 12.12412, 15.64733, 2.36715, 5.47866, 9.54463, 18.7577, 14.46294, 16.26665, 15.12502, 1.61395, 2.7791, 15.27019]\n"
     ]
    }
   ],
   "source": [
    "#START To IMPLEMENT IPSO\n",
    "p_best_span = []\n",
    "p_best = population[:]\n",
    "g_best_span = INT_MAX\n",
    "g_best =[]\n",
    "for p in population:\n",
    "    make_span = calculateMakeSpan(p[:])\n",
    "    p_best_span.append(make_span)\n",
    "    if make_span < g_best_span:\n",
    "        g_best_span = make_span\n",
    "        g_best = p[:]\n",
    "print(p_best_span)\n",
    "print(g_best_span)\n",
    "print(g_best)"
   ]
  },
  {
   "cell_type": "code",
   "execution_count": 96,
   "metadata": {},
   "outputs": [
    {
     "data": {
      "image/png": "[encoded data removed]",
      "text/plain": [
       "<Figure size 432x288 with 1 Axes>"
      ]
     },
     "metadata": {
      "needs_background": "light"
     },
     "output_type": "display_data"
    }
   ],
   "source": [
    "Beta = []\n",
    "x_axis = []\n",
    "for i in range(0,number_iterations):\n",
    "    temp = math.log(1+(i+1)/(number_iterations*random.random()))\n",
    "    Beta.append(temp)\n",
    "    x_axis.append(i)\n",
    "plt.plot(x_axis,Beta)\n",
    "plt.show()"
   ]
  },
  {
   "cell_type": "code",
   "execution_count": null,
   "metadata": {},
   "outputs": [],
   "source": []
  }
 ],
 "metadata": {
  "kernelspec": {
   "display_name": "Python 3",
   "language": "python",
   "name": "python3"
  },
  "language_info": {
   "codemirror_mode": {
    "name": "ipython",
    "version": 3
   },
   "file_extension": ".py",
   "mimetype": "text/x-python",
   "name": "python",
   "nbconvert_exporter": "python",
   "pygments_lexer": "ipython3",
   "version": "3.7.3"
  }
 },
 "nbformat": 4,
 "nbformat_minor": 2
}
