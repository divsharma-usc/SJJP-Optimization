{
 "cells": [
  {
   "cell_type": "code",
   "execution_count": 55,
   "metadata": {},
   "outputs": [],
   "source": [
    "import sys\n",
    "import random\n",
    "import copy\n",
    "INT_MAX = sys.maxsize"
   ]
  },
  {
   "cell_type": "code",
   "execution_count": 28,
   "metadata": {},
   "outputs": [
    {
     "name": "stdout",
     "output_type": "stream",
     "text": [
      "Enter the number of jobs : 20\n",
      "Enter the number of machines : 15\n",
      "Enter the processing time matrix : 25 75 75 76 38 62 38 59 14 13 46 31 57 92 3 67 5 11 11 40 34 77 42 35 96 22 55 21 29 16 22 98 8 35 59 31 13 46 52 22 18 19 64 29 70 99 42 2 35 11 92 88 97 21 56 17 43 27 19 23 50 5 59 71 47 39 82 35 12 2 39 42 52 65 35 48 57 5 2 60 64 86 3 51 26 34 39 45 63 54 40 43 50 71 46 99 67 34 6 95 67 54 29 30 60 59 3 85 6 46 49 5 82 18 71 48 79 62 65 76 65 55 81 15 32 52 97 69 82 89 69 87 22 71 63 70 74 52 94 14 81 24 14 32 39 67 59 18 77 50 18 6 96 53 35 99 39 18 14 90 64 81 89 48 80 44 75 12 13 74 59 71 75 30 93 26 30 84 91 93 39 56 13 29 55 69 26 7 55 48 22 46 50 96 17 57 14 8 13 95 53 78 24 92 90 68 87 43 75 94 93 92 18 28 27 40 56 83 51 15 97 48 53 78 39 47 34 42 28 11 11 30 14 10 4 20 92 19 59 28 69 82 64 40 27 82 27 43 56 17 18 20 98 43 68 84 26 87 61 95 23 88 89 49 84 12 51 3 44 20 43 54 18 72 70 28 20 22 59 36 85 13 73 29 45 7 97 4 22 74 45 62 95 66 14 40 23 79 34 8\n",
      "Enter the ordering matrix : 4 12 15 2 11 3 5 8 1 13 6 10 7 14 9 6 1 4 9 5 2 13 15 7 8 11 3 10 14 12 3 4 15 1 10 13 6 5 8 11 9 12 14 2 7 9 11 2 14 4 5 15 10 3 6 12 8 1 7 13 15 9 2 3 11 10 13 5 7 6 1 14 4 12 8 4 11 2 6 7 1 9 8 12 14 3 15 13 10 5 3 11 2 13 9 1 8 7 15 14 5 4 6 10 12 2 1 3 5 8 14 12 4 13 6 7 15 10 9 11 5 6 10 11 8 7 3 2 13 4 14 1 9 15 12 2 5 4 11 15 1 7 14 12 9 6 13 8 10 3 4 11 2 1 10 9 15 7 5 8 3 13 6 12 14 3 8 7 9 4 6 15 5 2 1 10 11 14 12 13 1 8 15 9 13 11 10 4 7 2 5 3 12 14 6 13 4 10 5 2 1 11 7 6 3 15 14 8 9 12 4 15 7 6 14 10 2 1 13 8 3 5 11 9 12 6 15 7 13 9 3 5 10 12 14 4 2 8 1 11 4 8 11 15 1 9 2 12 6 14 5 13 7 10 3 11 9 3 12 14 7 15 4 10 8 5 6 13 1 2 4 3 13 14 2 7 15 6 5 9 10 12 1 11 8 12 15 6 7 11 10 14 2 5 9 1 4 13 3 8\n",
      "\n",
      "----- PROCESSING MATRIX -----\n",
      "[[25, 75, 75, 76, 38, 62, 38, 59, 14, 13, 46, 31, 57, 92, 3], [67, 5, 11, 11, 40, 34, 77, 42, 35, 96, 22, 55, 21, 29, 16], [22, 98, 8, 35, 59, 31, 13, 46, 52, 22, 18, 19, 64, 29, 70], [99, 42, 2, 35, 11, 92, 88, 97, 21, 56, 17, 43, 27, 19, 23], [50, 5, 59, 71, 47, 39, 82, 35, 12, 2, 39, 42, 52, 65, 35], [48, 57, 5, 2, 60, 64, 86, 3, 51, 26, 34, 39, 45, 63, 54], [40, 43, 50, 71, 46, 99, 67, 34, 6, 95, 67, 54, 29, 30, 60], [59, 3, 85, 6, 46, 49, 5, 82, 18, 71, 48, 79, 62, 65, 76], [65, 55, 81, 15, 32, 52, 97, 69, 82, 89, 69, 87, 22, 71, 63], [70, 74, 52, 94, 14, 81, 24, 14, 32, 39, 67, 59, 18, 77, 50], [18, 6, 96, 53, 35, 99, 39, 18, 14, 90, 64, 81, 89, 48, 80], [44, 75, 12, 13, 74, 59, 71, 75, 30, 93, 26, 30, 84, 91, 93], [39, 56, 13, 29, 55, 69, 26, 7, 55, 48, 22, 46, 50, 96, 17], [57, 14, 8, 13, 95, 53, 78, 24, 92, 90, 68, 87, 43, 75, 94], [93, 92, 18, 28, 27, 40, 56, 83, 51, 15, 97, 48, 53, 78, 39], [47, 34, 42, 28, 11, 11, 30, 14, 10, 4, 20, 92, 19, 59, 28], [69, 82, 64, 40, 27, 82, 27, 43, 56, 17, 18, 20, 98, 43, 68], [84, 26, 87, 61, 95, 23, 88, 89, 49, 84, 12, 51, 3, 44, 20], [43, 54, 18, 72, 70, 28, 20, 22, 59, 36, 85, 13, 73, 29, 45], [7, 97, 4, 22, 74, 45, 62, 95, 66, 14, 40, 23, 79, 34, 8]]\n",
      "\n",
      "----- ODERING MATRIX -----\n",
      "[[4, 12, 15, 2, 11, 3, 5, 8, 1, 13, 6, 10, 7, 14, 9], [6, 1, 4, 9, 5, 2, 13, 15, 7, 8, 11, 3, 10, 14, 12], [3, 4, 15, 1, 10, 13, 6, 5, 8, 11, 9, 12, 14, 2, 7], [9, 11, 2, 14, 4, 5, 15, 10, 3, 6, 12, 8, 1, 7, 13], [15, 9, 2, 3, 11, 10, 13, 5, 7, 6, 1, 14, 4, 12, 8], [4, 11, 2, 6, 7, 1, 9, 8, 12, 14, 3, 15, 13, 10, 5], [3, 11, 2, 13, 9, 1, 8, 7, 15, 14, 5, 4, 6, 10, 12], [2, 1, 3, 5, 8, 14, 12, 4, 13, 6, 7, 15, 10, 9, 11], [5, 6, 10, 11, 8, 7, 3, 2, 13, 4, 14, 1, 9, 15, 12], [2, 5, 4, 11, 15, 1, 7, 14, 12, 9, 6, 13, 8, 10, 3], [4, 11, 2, 1, 10, 9, 15, 7, 5, 8, 3, 13, 6, 12, 14], [3, 8, 7, 9, 4, 6, 15, 5, 2, 1, 10, 11, 14, 12, 13], [1, 8, 15, 9, 13, 11, 10, 4, 7, 2, 5, 3, 12, 14, 6], [13, 4, 10, 5, 2, 1, 11, 7, 6, 3, 15, 14, 8, 9, 12], [4, 15, 7, 6, 14, 10, 2, 1, 13, 8, 3, 5, 11, 9, 12], [6, 15, 7, 13, 9, 3, 5, 10, 12, 14, 4, 2, 8, 1, 11], [4, 8, 11, 15, 1, 9, 2, 12, 6, 14, 5, 13, 7, 10, 3], [11, 9, 3, 12, 14, 7, 15, 4, 10, 8, 5, 6, 13, 1, 2], [4, 3, 13, 14, 2, 7, 15, 6, 5, 9, 10, 12, 1, 11, 8], [12, 15, 6, 7, 11, 10, 14, 2, 5, 9, 1, 4, 13, 3, 8]]\n"
     ]
    }
   ],
   "source": [
    "n = int(input('Enter the number of jobs : '))\n",
    "m = int(input('Enter the number of machines : '))\n",
    "processing_time_matrix = []\n",
    "ordering_matrix = []\n",
    "\n",
    "ptm = input('Enter the processing time matrix : ')\n",
    "om = input('Enter the ordering matrix : ')\n",
    "\n",
    "#IMPLEMENTING G&T ALGORITHM\n",
    "\n",
    "ptm = ptm.split(' ')\n",
    "om = om.split(' ')\n",
    "\n",
    "k=0\n",
    "for i in range(0,n):\n",
    "    temp = []\n",
    "    for j in range(0,m):\n",
    "        processing_time = int(ptm[k])\n",
    "        temp.append(processing_time)\n",
    "        k=k+1\n",
    "    processing_time_matrix.append(temp)\n",
    "\n",
    "k=0\n",
    "for i in range(0,n):\n",
    "    temp = []\n",
    "    for j in range(0,m):\n",
    "        order = int(om[k])\n",
    "        temp.append(order)\n",
    "        k=k+1\n",
    "    ordering_matrix.append(temp)\n",
    "\n",
    "print()\n",
    "print('----- PROCESSING MATRIX -----')\n",
    "print(processing_time_matrix)\n",
    "\n",
    "print()\n",
    "print('----- ODERING MATRIX -----')\n",
    "print(ordering_matrix)\n"
   ]
  },
  {
   "cell_type": "code",
   "execution_count": 157,
   "metadata": {},
   "outputs": [],
   "source": [
    "def make_population():\n",
    "    \n",
    "    S= []\n",
    "    curr_time = 0\n",
    "    \n",
    "    #STEP 1\n",
    "    set_A = []\n",
    "    for i in range(0,n):\n",
    "        for j in range(0,m):\n",
    "            if ordering_matrix[i][j] == 1:\n",
    "                set_A.append([0,i,j])\n",
    "    \n",
    "    while len(set_A) != 0:\n",
    "        #STEP 2\n",
    "        length_A = len(set_A)\n",
    "        min_value = INT_MAX\n",
    "        for i in range(0,length_A):\n",
    "            a = set_A[i][1]\n",
    "            b = set_A[i][2]\n",
    "            processing_time = processing_time_matrix[a][b]\n",
    "            if set_A[i][0] + processing_time < min_value:\n",
    "                min_value = set_A[i][0] + processing_time\n",
    "        #STEP 3\n",
    "        M = []\n",
    "        for i in range(0,length_A):\n",
    "            if set_A[i][0] < min_value:\n",
    "                M.append(set_A[i][2])\n",
    "        #STEP 4\n",
    "        G = []\n",
    "        set_machines = set(M)\n",
    "        random_machine = random.randint(0,len(set_machines)-1)\n",
    "        random_machine = M[random_machine]\n",
    "        for i in range(0,length_A):\n",
    "            if set_A[i][2] == random_machine:\n",
    "                G.append(set_A[i])\n",
    "            \n",
    "        #STEP 5\n",
    "        length_G = len(G)\n",
    "        max_earlist_time = 0\n",
    "        element = []\n",
    "        for i in range(0,length_G):\n",
    "            if G[i][2] == random_machine:\n",
    "                earlist_time = 0\n",
    "                b = random_machine\n",
    "                a = G[i][1]\n",
    "                order_number = ordering_matrix[a][b]\n",
    "                for j in range(0,m):\n",
    "                    if ordering_matrix[a][j] >= order_number:\n",
    "                        earlist_time = earlist_time + processing_time_matrix[a][j]\n",
    "                if earlist_time > max_earlist_time:\n",
    "                    max_earlist_time = earlist_time\n",
    "                    element = G[i]\n",
    "            \n",
    "        S.append(element[1])\n",
    "        curr_time = curr_time + processing_time_matrix[element[1]][random_machine]\n",
    "        next_order_number = ordering_matrix[element[1]][random_machine]+1\n",
    "\n",
    "        for k in range(0,m):\n",
    "            if ordering_matrix[element[1]][k] == next_order_number:\n",
    "                set_A.append([curr_time,element[1],k])\n",
    "        set_A.remove(element)\n",
    "        G.remove(element)\n",
    "    return S"
   ]
  },
  {
   "cell_type": "code",
   "execution_count": 173,
   "metadata": {},
   "outputs": [
    {
     "name": "stdout",
     "output_type": "stream",
     "text": [
      "Enter the population size :50\n"
     ]
    }
   ],
   "source": [
    "population_size = int(input('Enter the population size :'))\n",
    "population = []\n",
    "for i in range(0,population_size):\n",
    "    population.append(make_population())"
   ]
  },
  {
   "cell_type": "code",
   "execution_count": 159,
   "metadata": {},
   "outputs": [],
   "source": [
    "def changeToReal(population):\n",
    "    n = len(population)\n",
    "    m = len(population[0])\n",
    "    for i in range(0,n):\n",
    "        for j in range(0,m):\n",
    "            population[i][j] = round(population[i][j] +random.random(),5)\n",
    "    return population"
   ]
  },
  {
   "cell_type": "code",
   "execution_count": 174,
   "metadata": {},
   "outputs": [],
   "source": [
    "real_population = changeToReal(population)"
   ]
  },
  {
   "cell_type": "code",
   "execution_count": 161,
   "metadata": {},
   "outputs": [
    {
     "name": "stdout",
     "output_type": "stream",
     "text": [
      "Enter the number of iterations of IPSO : 3\n"
     ]
    }
   ],
   "source": [
    "number_iterations = int(input('Enter the number of iterations of IPSO : '))"
   ]
  },
  {
   "cell_type": "code",
   "execution_count": 175,
   "metadata": {},
   "outputs": [],
   "source": [
    "def calculateMakeSpan(schedule):\n",
    "    job_schedule = []\n",
    "    machine_free = []\n",
    "    operation_no = []\n",
    "    \n",
    "    for i in range(0,n):\n",
    "        job_schedule.append(0)\n",
    "        operation_no.append(0)\n",
    "    \n",
    "    for i in range(0,m):\n",
    "        machine_free.append(0)\n",
    "    \n",
    "    timer = 0\n",
    "    \n",
    "    while(True):\n",
    "        flag = True\n",
    "        \n",
    "        for s in schedule:\n",
    "            if s != -1:\n",
    "                flag = False\n",
    "       \n",
    "        if flag == True:\n",
    "            break\n",
    "        \n",
    "        for i in range(0,len(schedule)):\n",
    "            s = int(schedule[i])\n",
    "            if s != -1:\n",
    "                if timer > job_schedule[s]:\n",
    "                    machine = int(findMachine(s,operation_no[s]+1))\n",
    "                    if timer > machine_free[machine]:\n",
    "                        machine_free[machine] = timer + processing_time_matrix[s][machine]\n",
    "                        job_schedule[s] = timer + processing_time_matrix[s][machine]\n",
    "                        schedule[i] = -1\n",
    "                        operation_no[s] = operation_no[s]+1\n",
    "        timer = timer+1\n",
    "        \n",
    "    makespan = 0\n",
    "    for i in job_schedule:\n",
    "        if i > makespan:\n",
    "            makespan = i\n",
    "    return makespan\n",
    "\n",
    "def findMachine(s,on):\n",
    "    for j in range(0,m):\n",
    "        if ordering_matrix[s][j] == on:\n",
    "            return j\n",
    "    return 1    "
   ]
  },
  {
   "cell_type": "code",
   "execution_count": 164,
   "metadata": {},
   "outputs": [],
   "source": [
    "def isValid(schedule):\n",
    "    jobs = []\n",
    "    for i in range(0,n):\n",
    "        jobs.append(0)\n",
    "    \n",
    "    for s in schedule:\n",
    "        temp = int(s)\n",
    "        jobs[temp] = jobs[temp]+1\n",
    "    print(jobs)\n",
    "    for i in range(0,n):\n",
    "        if jobs[i] != m:\n",
    "            return False\n",
    "    return True"
   ]
  },
  {
   "cell_type": "code",
   "execution_count": 176,
   "metadata": {},
   "outputs": [
    {
     "name": "stdout",
     "output_type": "stream",
     "text": [
      "[1713, 1750, 1723, 1691, 1708, 1661, 1725, 1808, 1726, 1680, 1681, 1701, 1680, 1685, 1741, 1733, 1726, 1720, 1733, 1686, 1688, 1724, 1730, 1688, 1786, 1688, 1765, 1688, 1759, 1803, 1692, 1730, 1674, 1668, 1741, 1798, 1712, 1798, 1691, 1713, 1746, 1759, 1793, 1729, 1736, 1745, 1790, 1803, 1677, 1724]\n",
      "1661\n",
      "[11.4428, 19.3665, 10.41119, 12.00408, 2.26445, 7.91612, 13.76961, 14.80945, 6.69528, 1.84013, 4.27499, 8.87222, 11.5693, 9.4496, 0.87814, 13.93885, 3.9789, 17.70054, 2.63766, 18.7753, 15.37465, 16.52782, 5.79696, 8.04916, 19.90686, 10.40961, 13.14781, 7.63562, 12.33738, 8.43083, 14.45918, 6.5928, 1.5575, 7.18988, 3.74578, 4.50324, 11.35966, 9.30341, 0.14788, 17.46118, 6.59658, 2.57125, 6.16454, 12.842, 11.45983, 18.17445, 16.25545, 1.58321, 17.25186, 5.05218, 15.94341, 19.55811, 10.40324, 13.35343, 8.47246, 14.92872, 17.02316, 11.8014, 7.64877, 3.99001, 13.87437, 4.93077, 16.98394, 9.38286, 0.03934, 17.60639, 5.23302, 18.151, 6.87424, 2.49813, 12.95738, 9.632, 1.93593, 11.37078, 15.55196, 17.5209, 19.74427, 16.8381, 10.53346, 8.7084, 14.94532, 7.55477, 3.16708, 6.72706, 13.50425, 4.52301, 0.12303, 5.93496, 18.418, 13.14085, 6.78824, 4.54068, 16.04639, 12.86983, 2.87891, 8.76759, 9.55042, 1.41345, 9.11167, 11.72605, 15.74393, 3.3244, 17.98478, 10.88064, 16.4183, 19.01311, 14.15488, 7.40722, 0.47425, 18.72346, 5.132, 10.51142, 6.18979, 13.81591, 3.38749, 17.69676, 4.76372, 12.6375, 9.54969, 2.24663, 8.52427, 1.05052, 15.50679, 11.65123, 19.3206, 16.46803, 14.95823, 0.1651, 7.16521, 10.64281, 18.12516, 5.44884, 13.30764, 8.27583, 5.42709, 7.14768, 6.44139, 3.44065, 17.52221, 12.832, 17.71345, 4.29084, 4.60361, 2.27347, 0.13233, 8.99239, 9.83332, 1.76407, 17.35555, 15.27801, 11.20462, 19.02961, 12.25508, 16.96829, 14.53602, 10.86231, 10.01168, 18.08825, 13.31284, 0.47447, 5.34272, 7.25176, 3.97905, 6.12181, 4.17809, 2.23033, 8.9071, 14.57483, 9.77473, 12.18096, 1.68856, 8.4086, 11.53886, 15.77329, 17.7939, 19.91435, 4.40301, 16.87976, 10.10397, 13.72029, 0.98097, 18.39611, 7.30416, 5.30327, 3.42938, 6.97446, 2.1156, 14.18408, 9.67341, 12.36092, 1.11159, 11.23653, 13.1664, 8.35726, 1.53096, 17.08684, 15.45786, 19.01509, 4.89687, 10.20324, 11.7426, 5.88972, 10.73613, 4.31293, 16.00028, 0.67436, 18.24878, 11.30498, 6.11158, 7.44982, 0.82934, 2.15325, 3.54333, 19.87124, 14.33917, 12.75713, 9.23461, 13.05987, 18.13989, 8.50017, 1.62058, 19.99155, 17.49937, 15.26069, 0.51784, 10.7047, 5.25289, 4.25456, 16.2676, 6.5521, 14.33293, 12.15233, 11.90959, 7.45421, 0.15082, 2.00489, 3.27954, 5.4623, 7.72236, 9.08209, 0.95825, 13.55857, 18.40611, 14.47746, 1.51197, 3.9906, 8.83533, 19.30493, 16.67367, 1.4611, 15.51322, 17.19841, 3.77856, 10.92624, 18.4335, 2.33313, 4.52744, 6.82059, 12.80427, 11.77472, 7.20573, 19.40147, 5.55355, 9.48621, 18.02921, 0.92397, 13.90173, 14.53803, 12.14391, 7.89589, 8.92363, 16.86891, 1.18466, 15.60533, 3.1885, 19.14199, 2.86669, 3.18838, 10.79584, 4.91221, 15.84787, 6.07682, 5.88324, 1.84936, 9.44384, 18.72276, 14.95869, 12.28836, 16.86228, 2.93339, 19.95796, 15.54899, 5.43382, 9.27724, 18.84064, 16.64341, 14.03225, 2.70806, 15.59168, 15.03026]\n"
     ]
    }
   ],
   "source": [
    "#START To IMPLEMENT IPSO\n",
    "p_best_span = []\n",
    "g_best_span = INT_MAX\n",
    "g_best\n",
    "for p in population:\n",
    "    make_span = calculateMakeSpan(p[:])\n",
    "    p_best_span.append(make_span)\n",
    "    if make_span < g_best_span:\n",
    "        g_best_span = make_span\n",
    "        g_best = p[:]\n",
    "print(p_best_span)\n",
    "print(g_best_span)\n",
    "print(g_best)"
   ]
  },
  {
   "cell_type": "code",
   "execution_count": null,
   "metadata": {},
   "outputs": [],
   "source": []
  }
 ],
 "metadata": {
  "kernelspec": {
   "display_name": "Python 3",
   "language": "python",
   "name": "python3"
  },
  "language_info": {
   "codemirror_mode": {
    "name": "ipython",
    "version": 3
   },
   "file_extension": ".py",
   "mimetype": "text/x-python",
   "name": "python",
   "nbconvert_exporter": "python",
   "pygments_lexer": "ipython3",
   "version": "3.7.3"
  }
 },
 "nbformat": 4,
 "nbformat_minor": 2
}
