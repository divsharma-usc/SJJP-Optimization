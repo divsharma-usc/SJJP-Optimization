{
 "cells": [
  {
   "cell_type": "code",
   "execution_count": 64,
   "metadata": {},
   "outputs": [],
   "source": [
    "import sys\n",
    "import random\n",
    "import copy\n",
    "import math\n",
    "from matplotlib import pyplot as plt\n",
    "INT_MAX = sys.maxsize"
   ]
  },
  {
   "cell_type": "code",
   "execution_count": 3,
   "metadata": {},
   "outputs": [
    {
     "name": "stdout",
     "output_type": "stream",
     "text": [
      "Enter the number of jobs : 20\n",
      "Enter the number of machines : 15\n",
      "Enter the processing time matrix : 25 75 75 76 38 62 38 59 14 13 46 31 57 92 3 67 5 11 11 40 34 77 42 35 96 22 55 21 29 16 22 98 8 35 59 31 13 46 52 22 18 19 64 29 70 99 42 2 35 11 92 88 97 21 56 17 43 27 19 23 50 5 59 71 47 39 82 35 12 2 39 42 52 65 35 48 57 5 2 60 64 86 3 51 26 34 39 45 63 54 40 43 50 71 46 99 67 34 6 95 67 54 29 30 60 59 3 85 6 46 49 5 82 18 71 48 79 62 65 76 65 55 81 15 32 52 97 69 82 89 69 87 22 71 63 70 74 52 94 14 81 24 14 32 39 67 59 18 77 50 18 6 96 53 35 99 39 18 14 90 64 81 89 48 80 44 75 12 13 74 59 71 75 30 93 26 30 84 91 93 39 56 13 29 55 69 26 7 55 48 22 46 50 96 17 57 14 8 13 95 53 78 24 92 90 68 87 43 75 94 93 92 18 28 27 40 56 83 51 15 97 48 53 78 39 47 34 42 28 11 11 30 14 10 4 20 92 19 59 28 69 82 64 40 27 82 27 43 56 17 18 20 98 43 68 84 26 87 61 95 23 88 89 49 84 12 51 3 44 20 43 54 18 72 70 28 20 22 59 36 85 13 73 29 45 7 97 4 22 74 45 62 95 66 14 40 23 79 34 8\n",
      "Enter the ordering matrix : 4 12 15 2 11 3 5 8 1 13 6 10 7 14 9 6 1 4 9 5 2 13 15 7 8 11 3 10 14 12 3 4 15 1 10 13 6 5 8 11 9 12 14 2 7 9 11 2 14 4 5 15 10 3 6 12 8 1 7 13 15 9 2 3 11 10 13 5 7 6 1 14 4 12 8 4 11 2 6 7 1 9 8 12 14 3 15 13 10 5 3 11 2 13 9 1 8 7 15 14 5 4 6 10 12 2 1 3 5 8 14 12 4 13 6 7 15 10 9 11 5 6 10 11 8 7 3 2 13 4 14 1 9 15 12 2 5 4 11 15 1 7 14 12 9 6 13 8 10 3 4 11 2 1 10 9 15 7 5 8 3 13 6 12 14 3 8 7 9 4 6 15 5 2 1 10 11 14 12 13 1 8 15 9 13 11 10 4 7 2 5 3 12 14 6 13 4 10 5 2 1 11 7 6 3 15 14 8 9 12 4 15 7 6 14 10 2 1 13 8 3 5 11 9 12 6 15 7 13 9 3 5 10 12 14 4 2 8 1 11 4 8 11 15 1 9 2 12 6 14 5 13 7 10 3 11 9 3 12 14 7 15 4 10 8 5 6 13 1 2 4 3 13 14 2 7 15 6 5 9 10 12 1 11 8 12 15 6 7 11 10 14 2 5 9 1 4 13 3 8\n",
      "\n",
      "----- PROCESSING MATRIX -----\n",
      "[[25, 75, 75, 76, 38, 62, 38, 59, 14, 13, 46, 31, 57, 92, 3], [67, 5, 11, 11, 40, 34, 77, 42, 35, 96, 22, 55, 21, 29, 16], [22, 98, 8, 35, 59, 31, 13, 46, 52, 22, 18, 19, 64, 29, 70], [99, 42, 2, 35, 11, 92, 88, 97, 21, 56, 17, 43, 27, 19, 23], [50, 5, 59, 71, 47, 39, 82, 35, 12, 2, 39, 42, 52, 65, 35], [48, 57, 5, 2, 60, 64, 86, 3, 51, 26, 34, 39, 45, 63, 54], [40, 43, 50, 71, 46, 99, 67, 34, 6, 95, 67, 54, 29, 30, 60], [59, 3, 85, 6, 46, 49, 5, 82, 18, 71, 48, 79, 62, 65, 76], [65, 55, 81, 15, 32, 52, 97, 69, 82, 89, 69, 87, 22, 71, 63], [70, 74, 52, 94, 14, 81, 24, 14, 32, 39, 67, 59, 18, 77, 50], [18, 6, 96, 53, 35, 99, 39, 18, 14, 90, 64, 81, 89, 48, 80], [44, 75, 12, 13, 74, 59, 71, 75, 30, 93, 26, 30, 84, 91, 93], [39, 56, 13, 29, 55, 69, 26, 7, 55, 48, 22, 46, 50, 96, 17], [57, 14, 8, 13, 95, 53, 78, 24, 92, 90, 68, 87, 43, 75, 94], [93, 92, 18, 28, 27, 40, 56, 83, 51, 15, 97, 48, 53, 78, 39], [47, 34, 42, 28, 11, 11, 30, 14, 10, 4, 20, 92, 19, 59, 28], [69, 82, 64, 40, 27, 82, 27, 43, 56, 17, 18, 20, 98, 43, 68], [84, 26, 87, 61, 95, 23, 88, 89, 49, 84, 12, 51, 3, 44, 20], [43, 54, 18, 72, 70, 28, 20, 22, 59, 36, 85, 13, 73, 29, 45], [7, 97, 4, 22, 74, 45, 62, 95, 66, 14, 40, 23, 79, 34, 8]]\n",
      "\n",
      "----- ODERING MATRIX -----\n",
      "[[4, 12, 15, 2, 11, 3, 5, 8, 1, 13, 6, 10, 7, 14, 9], [6, 1, 4, 9, 5, 2, 13, 15, 7, 8, 11, 3, 10, 14, 12], [3, 4, 15, 1, 10, 13, 6, 5, 8, 11, 9, 12, 14, 2, 7], [9, 11, 2, 14, 4, 5, 15, 10, 3, 6, 12, 8, 1, 7, 13], [15, 9, 2, 3, 11, 10, 13, 5, 7, 6, 1, 14, 4, 12, 8], [4, 11, 2, 6, 7, 1, 9, 8, 12, 14, 3, 15, 13, 10, 5], [3, 11, 2, 13, 9, 1, 8, 7, 15, 14, 5, 4, 6, 10, 12], [2, 1, 3, 5, 8, 14, 12, 4, 13, 6, 7, 15, 10, 9, 11], [5, 6, 10, 11, 8, 7, 3, 2, 13, 4, 14, 1, 9, 15, 12], [2, 5, 4, 11, 15, 1, 7, 14, 12, 9, 6, 13, 8, 10, 3], [4, 11, 2, 1, 10, 9, 15, 7, 5, 8, 3, 13, 6, 12, 14], [3, 8, 7, 9, 4, 6, 15, 5, 2, 1, 10, 11, 14, 12, 13], [1, 8, 15, 9, 13, 11, 10, 4, 7, 2, 5, 3, 12, 14, 6], [13, 4, 10, 5, 2, 1, 11, 7, 6, 3, 15, 14, 8, 9, 12], [4, 15, 7, 6, 14, 10, 2, 1, 13, 8, 3, 5, 11, 9, 12], [6, 15, 7, 13, 9, 3, 5, 10, 12, 14, 4, 2, 8, 1, 11], [4, 8, 11, 15, 1, 9, 2, 12, 6, 14, 5, 13, 7, 10, 3], [11, 9, 3, 12, 14, 7, 15, 4, 10, 8, 5, 6, 13, 1, 2], [4, 3, 13, 14, 2, 7, 15, 6, 5, 9, 10, 12, 1, 11, 8], [12, 15, 6, 7, 11, 10, 14, 2, 5, 9, 1, 4, 13, 3, 8]]\n"
     ]
    }
   ],
   "source": [
    "n = int(input('Enter the number of jobs : '))\n",
    "m = int(input('Enter the number of machines : '))\n",
    "processing_time_matrix = []\n",
    "ordering_matrix = []\n",
    "\n",
    "ptm = input('Enter the processing time matrix : ')\n",
    "om = input('Enter the ordering matrix : ')\n",
    "\n",
    "#IMPLEMENTING G&T ALGORITHM\n",
    "\n",
    "ptm = ptm.split(' ')\n",
    "om = om.split(' ')\n",
    "\n",
    "k=0\n",
    "for i in range(0,n):\n",
    "    temp = []\n",
    "    for j in range(0,m):\n",
    "        processing_time = int(ptm[k])\n",
    "        temp.append(processing_time)\n",
    "        k=k+1\n",
    "    processing_time_matrix.append(temp)\n",
    "\n",
    "k=0\n",
    "for i in range(0,n):\n",
    "    temp = []\n",
    "    for j in range(0,m):\n",
    "        order = int(om[k])\n",
    "        temp.append(order)\n",
    "        k=k+1\n",
    "    ordering_matrix.append(temp)\n",
    "\n",
    "print()\n",
    "print('----- PROCESSING MATRIX -----')\n",
    "print(processing_time_matrix)\n",
    "\n",
    "print()\n",
    "print('----- ODERING MATRIX -----')\n",
    "print(ordering_matrix)\n"
   ]
  },
  {
   "cell_type": "code",
   "execution_count": 246,
   "metadata": {},
   "outputs": [],
   "source": [
    "def make_population():\n",
    "    \n",
    "    S= []\n",
    "    curr_time = 0\n",
    "    \n",
    "    #STEP 1\n",
    "    set_A = []\n",
    "    for i in range(0,n):\n",
    "        for j in range(0,m):\n",
    "            if ordering_matrix[i][j] == 1:\n",
    "                set_A.append([0,i,j])\n",
    "    \n",
    "    while len(set_A) != 0:\n",
    "        #STEP 2\n",
    "        length_A = len(set_A)\n",
    "        min_value = INT_MAX\n",
    "        for i in range(0,length_A):\n",
    "            a = set_A[i][1]\n",
    "            b = set_A[i][2]\n",
    "            processing_time = processing_time_matrix[a][b]\n",
    "            if set_A[i][0] + processing_time < min_value:\n",
    "                min_value = set_A[i][0] + processing_time\n",
    "        #STEP 3\n",
    "        M = []\n",
    "        for i in range(0,length_A):\n",
    "            if set_A[i][0] < min_value:\n",
    "                M.append(set_A[i][2])\n",
    "        #STEP 4\n",
    "        G = []\n",
    "        set_machines = set(M)\n",
    "        random_machine = random.randint(0,len(set_machines)-1)\n",
    "        random_machine = M[random_machine]\n",
    "        for i in range(0,length_A):\n",
    "            if set_A[i][2] == random_machine:\n",
    "                G.append(set_A[i])\n",
    "            \n",
    "        #STEP 5\n",
    "        length_G = len(G)\n",
    "        max_earlist_time = 0\n",
    "        element = []\n",
    "        for i in range(0,length_G):\n",
    "            if G[i][2] == random_machine:\n",
    "                earlist_time = 0\n",
    "                b = random_machine\n",
    "                a = G[i][1]\n",
    "                order_number = ordering_matrix[a][b]\n",
    "                for j in range(0,m):\n",
    "                    if ordering_matrix[a][j] >= order_number:\n",
    "                        earlist_time = earlist_time + processing_time_matrix[a][j]\n",
    "                if earlist_time > max_earlist_time:\n",
    "                    max_earlist_time = earlist_time\n",
    "                    element = G[i]\n",
    "            \n",
    "        S.append(element[1])\n",
    "        curr_time = curr_time + processing_time_matrix[element[1]][random_machine]\n",
    "        next_order_number = ordering_matrix[element[1]][random_machine]+1\n",
    "\n",
    "        for k in range(0,m):\n",
    "            if ordering_matrix[element[1]][k] == next_order_number:\n",
    "                set_A.append([curr_time,element[1],k])\n",
    "        set_A.remove(element)\n",
    "        G.remove(element)\n",
    "    return S"
   ]
  },
  {
   "cell_type": "code",
   "execution_count": 247,
   "metadata": {},
   "outputs": [
    {
     "name": "stdout",
     "output_type": "stream",
     "text": [
      "Enter the population size : 10\n"
     ]
    }
   ],
   "source": [
    "population_size = int(input('Enter the population size : '))\n",
    "population = []\n",
    "for i in range(0,population_size):\n",
    "    population.append(make_population())"
   ]
  },
  {
   "cell_type": "code",
   "execution_count": 248,
   "metadata": {},
   "outputs": [],
   "source": [
    "def changeToReal(population):\n",
    "    n = len(population)\n",
    "    m = len(population[0])\n",
    "    for i in range(0,n):\n",
    "        for j in range(0,m):\n",
    "            population[i][j] = round(population[i][j] +random.random(),5)\n",
    "    return population"
   ]
  },
  {
   "cell_type": "code",
   "execution_count": 249,
   "metadata": {},
   "outputs": [],
   "source": [
    "real_population = changeToReal(population)"
   ]
  },
  {
   "cell_type": "code",
   "execution_count": 307,
   "metadata": {},
   "outputs": [
    {
     "name": "stdout",
     "output_type": "stream",
     "text": [
      "Enter the number of iterations of IPSO : 100\n"
     ]
    }
   ],
   "source": [
    "number_iterations = int(input('Enter the number of iterations of IPSO : '))"
   ]
  },
  {
   "cell_type": "code",
   "execution_count": 308,
   "metadata": {},
   "outputs": [],
   "source": [
    "def calculateMakeSpan(schedule):\n",
    "    job_schedule = []\n",
    "    machine_free = []\n",
    "    operation_no = []\n",
    "    \n",
    "    for i in range(0,n):\n",
    "        job_schedule.append(0)\n",
    "        operation_no.append(0)\n",
    "    \n",
    "    for i in range(0,m):\n",
    "        machine_free.append(0)\n",
    "    \n",
    "    timer = 0\n",
    "    \n",
    "    while(True):\n",
    "        flag = True\n",
    "        \n",
    "        for s in schedule:\n",
    "            if s != -1:\n",
    "                flag = False\n",
    "       \n",
    "        if flag == True:\n",
    "            break\n",
    "        \n",
    "        for i in range(0,len(schedule)):\n",
    "            s = int(schedule[i])\n",
    "            if s != -1:\n",
    "                if timer > job_schedule[s]:\n",
    "                    machine = int(findMachine(s,operation_no[s]+1))\n",
    "                    if timer > machine_free[machine]:\n",
    "                        machine_free[machine] = timer + processing_time_matrix[s][machine]\n",
    "                        job_schedule[s] = timer + processing_time_matrix[s][machine]\n",
    "                        schedule[i] = -1\n",
    "                        operation_no[s] = operation_no[s]+1\n",
    "        timer = timer+1\n",
    "        \n",
    "    makespan = 0\n",
    "    for i in job_schedule:\n",
    "        if i > makespan:\n",
    "            makespan = i\n",
    "    return makespan\n",
    "\n",
    "def findMachine(s,on):\n",
    "    for j in range(0,m):\n",
    "        if ordering_matrix[s][j] == on:\n",
    "            return j\n",
    "    return 1    "
   ]
  },
  {
   "cell_type": "code",
   "execution_count": 252,
   "metadata": {},
   "outputs": [],
   "source": [
    "def isValid(schedule):\n",
    "    jobs = []\n",
    "    for i in range(0,n):\n",
    "        jobs.append(0)\n",
    "    \n",
    "    for s in schedule:\n",
    "        temp = int(s)\n",
    "        jobs[temp] = jobs[temp]+1\n",
    "    for i in range(0,n):\n",
    "        if jobs[i] != m:\n",
    "            print(jobs)\n",
    "            return False\n",
    "    return True"
   ]
  },
  {
   "cell_type": "code",
   "execution_count": 326,
   "metadata": {},
   "outputs": [
    {
     "name": "stdout",
     "output_type": "stream",
     "text": [
      "[1733, 1720, 1760, 1688, 1844, 1724, 1730, 1720, 1654, 1684]\n",
      "1654\n",
      "[3.50728, 7.64429, 13.27283, 6.19904, 11.80317, 9.57272, 11.54526, 5.56591, 10.61631, 2.89351, 0.72124, 17.89757, 19.55123, 7.85094, 2.65837, 8.56951, 18.88389, 13.26705, 11.24809, 8.56047, 1.83164, 14.82893, 9.00485, 15.13893, 16.87224, 12.87394, 4.49017, 10.70532, 6.60827, 7.91844, 3.09555, 4.90569, 5.62213, 17.45302, 0.74894, 6.31571, 2.76982, 19.73492, 11.41308, 18.84507, 13.9299, 0.92203, 1.29607, 8.23301, 14.40506, 9.02247, 6.54435, 1.67627, 15.89868, 16.05841, 8.33631, 12.85629, 10.55919, 3.14552, 11.0593, 14.92022, 7.53882, 4.63258, 5.67714, 17.29919, 13.16044, 18.03362, 2.80669, 19.01361, 10.31839, 8.76241, 14.86108, 0.10943, 9.09083, 6.19492, 1.55888, 11.29515, 15.87854, 16.90219, 12.91669, 3.18327, 13.31007, 7.10943, 16.32218, 6.1602, 4.86606, 5.55288, 17.57675, 18.92794, 12.04998, 6.62603, 19.71927, 4.53911, 2.90405, 13.96893, 10.36196, 8.26908, 0.05943, 14.63432, 9.13596, 1.20612, 11.92706, 17.46931, 16.13568, 0.77846, 12.10776, 9.61531, 15.9557, 3.18486, 7.42236, 5.78966, 6.96818, 16.13518, 19.19892, 18.52272, 3.63855, 4.61731, 9.71051, 2.34142, 13.56326, 10.16828, 8.71955, 14.42683, 11.60218, 1.76311, 17.94011, 12.16021, 13.84938, 16.34076, 0.86003, 15.98711, 7.18473, 5.17554, 8.77282, 5.60019, 7.94559, 6.29591, 14.96812, 19.87225, 10.41617, 0.77457, 5.32805, 18.03599, 13.33772, 12.56951, 3.02922, 4.1176, 8.8593, 9.22436, 4.21178, 2.33399, 11.26222, 1.02259, 17.6743, 12.90759, 16.87864, 15.33019, 7.19588, 17.89129, 19.01986, 6.33272, 10.87186, 14.70038, 19.0388, 0.48083, 5.52357, 10.11426, 18.42049, 13.60587, 3.40515, 19.7084, 8.62256, 9.70611, 17.50901, 4.11529, 11.6335, 17.18923, 2.49618, 12.62131, 1.34438, 19.70577, 15.4271, 4.78501, 16.7915, 7.52572, 6.62857, 11.75305, 14.85144, 0.14427, 11.50149, 9.24367, 5.49797, 18.28983, 19.06364, 0.29366, 10.15125, 13.05619, 3.76557, 8.01642, 17.29891, 2.60063, 12.99236, 17.83649, 1.31297, 1.24292, 17.28824, 15.92647, 4.73294, 4.05211, 16.34891, 13.57532, 8.125, 11.42547, 6.8117, 7.82181, 14.26204, 9.54318, 0.14009, 18.94, 10.73143, 5.20796, 19.10896, 3.67517, 12.88154, 2.85117, 17.27574, 18.74803, 1.97213, 15.23269, 16.33376, 4.26816, 13.22095, 8.24295, 14.23471, 6.83058, 19.33749, 12.10705, 11.09869, 19.68185, 7.26342, 5.77533, 7.22179, 9.3126, 0.22839, 10.5376, 3.80933, 2.55843, 17.70727, 0.4504, 18.2511, 16.0668, 14.34091, 1.38567, 15.3879, 10.46331, 13.50407, 18.45962, 2.12635, 4.3939, 3.94938, 8.63969, 6.29688, 12.87214, 19.87147, 1.78892, 11.63114, 7.13001, 5.4862, 9.36711, 7.58224, 16.18638, 18.48601, 0.08292, 14.98336, 3.28423, 10.83281, 15.96733, 13.57754, 2.29492, 4.28132, 12.75725, 8.89215, 15.63947, 6.73088, 1.41061, 5.85884, 1.23261, 9.46922, 16.39201, 3.12033, 18.31786, 14.91293, 3.80674, 10.68127, 2.34203, 12.4121, 15.58998, 5.93196, 9.5919, 16.00103, 18.30962, 14.38029, 2.89838, 15.05274, 15.16516]\n"
     ]
    }
   ],
   "source": [
    "#START To IMPLEMENT IPSO\n",
    "p_best_span = []\n",
    "p_best = population[:]\n",
    "R = []\n",
    "g_best_span = INT_MAX\n",
    "g_best =[]\n",
    "for p in population:\n",
    "    make_span = calculateMakeSpan(p[:])\n",
    "    p_best_span.append(make_span)\n",
    "    if make_span < g_best_span:\n",
    "        g_best_span = make_span\n",
    "        g_best = p[:]\n",
    "    R.append(findR(p[:],g_best[:]))\n",
    "print(p_best_span)\n",
    "print(g_best_span)\n",
    "print(g_best)"
   ]
  },
  {
   "cell_type": "code",
   "execution_count": 327,
   "metadata": {},
   "outputs": [],
   "source": [
    "def findR(p_best,g_best):\n",
    "    rand1 = round(random.random(),5)\n",
    "    rand2 = round(random.random(),5)\n",
    "    c1 = c2 = 0.00005\n",
    "    alpha = 0.00005\n",
    "    temp = []\n",
    "    for i in range(0,len(p_best)):\n",
    "        a = ((1-alpha)*c1*rand1*p_best[i]+alpha*c2*rand2*g_best[i])/((1-alpha)*c1*rand1+alpha*c2*rand2)\n",
    "        temp.append(round(a,5))\n",
    "    return temp"
   ]
  },
  {
   "cell_type": "code",
   "execution_count": 328,
   "metadata": {},
   "outputs": [
    {
     "data": {
      "image/png": "[encoded data removed]",
      "text/plain": [
       "<Figure size 432x288 with 1 Axes>"
      ]
     },
     "metadata": {
      "needs_background": "light"
     },
     "output_type": "display_data"
    }
   ],
   "source": [
    "Beta = []\n",
    "x_axis = []\n",
    "for i in range(0,number_iterations):\n",
    "    temp = math.log(1+((i+1)/(number_iterations*random.random())))\n",
    "    Beta.append(temp)\n",
    "    x_axis.append(i)\n",
    "plt.plot(x_axis,Beta)\n",
    "plt.show()"
   ]
  },
  {
   "cell_type": "code",
   "execution_count": 330,
   "metadata": {},
   "outputs": [],
   "source": [
    "alpha = 0.5\n",
    "g_graph_x = []\n",
    "g_graph_y = []\n",
    "for i in range(0,number_iterations):\n",
    "    g_graph_x.append(i)\n",
    "    g_graph_y.append(g_best_span)\n",
    "    for k in range(0,len(population)):\n",
    "        temp = []\n",
    "        for j in range(0,len(population[k])):\n",
    "            beta = round(math.log(1+((i+1)/number_iterations*random.random())),5)\n",
    "            random_number = random.random()\n",
    "            r = population[k]\n",
    "            if random_number > 0.5:\n",
    "                r = p_best[k]\n",
    "            else:\n",
    "                k = random.randint(0,len(population)-1)\n",
    "                r = p_best[k]\n",
    "            a = R[k][j] + alpha*abs(beta) * (r[j]-population[k][j])\n",
    "            temp.append(a)\n",
    "        temp2 = encode(temp)\n",
    "        if(isValid(temp2)):\n",
    "            makespan = calculateMakeSpan(temp2)\n",
    "            if makespan < g_best_span:\n",
    "                g_best_span = makespan\n",
    "                g_best = temp\n",
    "            if makespan < p_best_span[k]:\n",
    "                p_best_span[k] = makespan\n",
    "                p_best[k] = temp\n",
    "        else:\n",
    "            print('not a valid schedule')\n",
    "        R[k] = findR(p_best[k][:],g_best[:])"
   ]
  },
  {
   "cell_type": "code",
   "execution_count": 283,
   "metadata": {},
   "outputs": [],
   "source": [
    "def encode(schedule):\n",
    "    temp = sorted(schedule)\n",
    "    encoded = []\n",
    "    for i in range(0,len(schedule)):\n",
    "        k = temp.index(schedule[i])\n",
    "        encoded.append(k+1)\n",
    "    for i in range(0,len(encoded)):\n",
    "        encoded[i] = math.ceil((encoded[i]/m)-1)\n",
    "    return encoded"
   ]
  },
  {
   "cell_type": "code",
   "execution_count": 331,
   "metadata": {},
   "outputs": [
    {
     "name": "stdout",
     "output_type": "stream",
     "text": [
      "[1572, 1559, 1587, 1581, 1591, 1557, 1567, 1581, 1584, 1519]\n",
      "1519\n",
      "[1684, 1625, 1574, 1574, 1559, 1559, 1559, 1559, 1559, 1559, 1559, 1559, 1559, 1559, 1559, 1559, 1559, 1559, 1559, 1559, 1559, 1559, 1559, 1559, 1559, 1559, 1559, 1559, 1557, 1557, 1557, 1557, 1557, 1557, 1557, 1557, 1557, 1519, 1519, 1519, 1519, 1519, 1519, 1519, 1519, 1519, 1519, 1519, 1519, 1519, 1519, 1519, 1519, 1519, 1519, 1519, 1519, 1519, 1519, 1519, 1519, 1519, 1519, 1519, 1519, 1519, 1519, 1519, 1519, 1519, 1519, 1519, 1519, 1519, 1519, 1519, 1519, 1519, 1519, 1519, 1519, 1519, 1519, 1519, 1519, 1519, 1519, 1519, 1519, 1519, 1519, 1519, 1519, 1519, 1519, 1519, 1519, 1519, 1519, 1519]\n"
     ]
    },
    {
     "data": {
      "image/png": "[encoded data removed]",
      "text/plain": [
       "<Figure size 432x288 with 1 Axes>"
      ]
     },
     "metadata": {
      "needs_background": "light"
     },
     "output_type": "display_data"
    }
   ],
   "source": [
    "print(p_best_span)\n",
    "print(g_best_span)\n",
    "plt.plot(g_graph_x,g_graph_y)\n",
    "print(g_graph_y)"
   ]
  }
 ],
 "metadata": {
  "kernelspec": {
   "display_name": "Python 3",
   "language": "python",
   "name": "python3"
  },
  "language_info": {
   "codemirror_mode": {
    "name": "ipython",
    "version": 3
   },
   "file_extension": ".py",
   "mimetype": "text/x-python",
   "name": "python",
   "nbconvert_exporter": "python",
   "pygments_lexer": "ipython3",
   "version": "3.7.3"
  }
 },
 "nbformat": 4,
 "nbformat_minor": 2
}
