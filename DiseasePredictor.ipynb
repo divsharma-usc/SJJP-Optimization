{
 "cells": [
  {
   "cell_type": "code",
   "execution_count": 192,
   "metadata": {},
   "outputs": [
    {
     "name": "stderr",
     "output_type": "stream",
     "text": [
      "[nltk_data] Downloading package wordnet to /home/div/nltk_data...\n",
      "[nltk_data]   Package wordnet is already up-to-date!\n",
      "[nltk_data] Downloading package stopwords to /home/div/nltk_data...\n",
      "[nltk_data]   Package stopwords is already up-to-date!\n"
     ]
    }
   ],
   "source": [
    "import pandas as pd\n",
    "import nltk\n",
    "nltk.download('wordnet')\n",
    "nltk.download('stopwords')\n",
    "from nltk.corpus import stopwords\n",
    "stop_words = stopwords.words('english')"
   ]
  },
  {
   "cell_type": "code",
   "execution_count": 193,
   "metadata": {},
   "outputs": [],
   "source": [
    "from sklearn.model_selection import train_test_split\n",
    "from sklearn.metrics import accuracy_score\n",
    "from nltk import ngrams\n",
    "from difflib import SequenceMatcher\n",
    "import math"
   ]
  },
  {
   "cell_type": "code",
   "execution_count": 194,
   "metadata": {},
   "outputs": [],
   "source": [
    "data_frame = pd.read_csv('data.csv')\n",
    "data_top = data_frame.columns"
   ]
  },
  {
   "cell_type": "code",
   "execution_count": 195,
   "metadata": {},
   "outputs": [],
   "source": [
    "from nltk.stem import WordNetLemmatizer\n",
    "lemmatizer= WordNetLemmatizer()\n",
    "features = []\n",
    "features_list = []\n",
    "for feature in data_top:\n",
    "    words_list = feature.split('_')\n",
    "    feature_words = []\n",
    "    for word in words_list:\n",
    "        if word not in stop_words:\n",
    "            feature_words.append(lemmatizer.lemmatize(word))\n",
    "    features.append('_'.join(feature_words))\n",
    "    features_list.append(feature_words)"
   ]
  },
  {
   "cell_type": "code",
   "execution_count": 196,
   "metadata": {},
   "outputs": [],
   "source": [
    "colum_len = len(data_top)\n",
    "x_data =  data_frame.iloc[:,:132]\n",
    "y_data =  data_frame.iloc[:,132:133]"
   ]
  },
  {
   "cell_type": "code",
   "execution_count": 197,
   "metadata": {},
   "outputs": [],
   "source": [
    "x_train, x_test, y_train, y_test = train_test_split(x_data,y_data)"
   ]
  },
  {
   "cell_type": "code",
   "execution_count": 199,
   "metadata": {},
   "outputs": [
    {
     "name": "stdout",
     "output_type": "stream",
     "text": [
      "1.0\n"
     ]
    },
    {
     "name": "stderr",
     "output_type": "stream",
     "text": [
      "/home/div/anaconda3/lib/python3.7/site-packages/sklearn/ensemble/forest.py:246: FutureWarning: The default value of n_estimators will change from 10 in version 0.20 to 100 in 0.22.\n",
      "  \"10 in version 0.20 to 100 in 0.22.\", FutureWarning)\n",
      "/home/div/anaconda3/lib/python3.7/site-packages/ipykernel_launcher.py:3: DataConversionWarning: A column-vector y was passed when a 1d array was expected. Please change the shape of y to (n_samples,), for example using ravel().\n",
      "  This is separate from the ipykernel package so we can avoid doing imports until\n"
     ]
    }
   ],
   "source": [
    "from sklearn.ensemble import RandomForestClassifier\n",
    "rf_classifier = RandomForestClassifier()\n",
    "rf_classifier.fit(x_train,y_train)\n",
    "y_predict = rf_classifier.predict(x_test)\n",
    "score = accuracy_score(y_test,y_predict)\n",
    "print(score)"
   ]
  },
  {
   "cell_type": "code",
   "execution_count": 191,
   "metadata": {},
   "outputs": [
    {
     "name": "stdout",
     "output_type": "stream",
     "text": [
      "['AIDS'] [[0.  0.5 0.  0.  0.  0.  0.  0.  0.1 0.  0.  0.  0.  0.  0.  0.  0.  0.\n",
      "  0.  0.  0.  0.  0.  0.  0.  0.  0.  0.1 0.1 0.1 0.  0.  0.1 0.  0.  0.\n",
      "  0.  0.  0.  0.  0. ]]\n",
      "AIDS 0.5\n",
      "Chicken pox 0.1\n",
      "Impetigo 0.1\n",
      "Jaundice 0.1\n",
      "Malaria 0.1\n",
      "Paralysis (brain hemorrhage) 0.1\n"
     ]
    }
   ],
   "source": [
    "speech_test = \"my child is fever very high\"\n",
    "\n",
    "ngram_list = []\n",
    "\n",
    "all_ngrams = ngrams(speech_test.split(),1)\n",
    "for ngram in all_ngrams:\n",
    "    lowered_ngram_tokens = map(lambda token: token.lower(), ngram)\n",
    "    if any(token not in stop_words for token in lowered_ngram_tokens):\n",
    "         ngram_list.append(' '.join(ngram))\n",
    "\n",
    "all_ngrams = ngrams(speech_test.split(),2)\n",
    "for ngram in all_ngrams:\n",
    "    lowered_ngram_tokens = map(lambda token: token.lower(), ngram)\n",
    "    if any(token not in stop_words for token in lowered_ngram_tokens):\n",
    "         ngram_list.append(' '.join(ngram))\n",
    "\n",
    "all_ngrams = ngrams(speech_test.split(),3)\n",
    "for ngram in all_ngrams:\n",
    "    lowered_ngram_tokens = map(lambda token: token.lower(), ngram)\n",
    "    if any(token not in stop_words for token in lowered_ngram_tokens):\n",
    "         ngram_list.append(' '.join(ngram))\n",
    "\n",
    "train_list = []\n",
    "for element in ngram_list:\n",
    "    temp = element.split(' ')\n",
    "    temp2 = []\n",
    "    for word in temp:\n",
    "        temp2.append(lemmatizer.lemmatize(word))\n",
    "    train_list.append(temp)\n",
    "#train_list\n",
    "#features_list\n",
    "test_data = []\n",
    "for i in range(0,len(features_list)-1):\n",
    "    test_data.append(0)\n",
    "    \n",
    "for word in train_list:\n",
    "    for feat in features_list:\n",
    "        word1 = \" \".join(word)\n",
    "        word2 = \" \".join(feat)\n",
    "        cosine_similarity = get_cosine(text_to_vector(word1),text_to_vector(word2))\n",
    "        if cosine_similarity > 0.75:\n",
    "            index = features_list.index(feat)\n",
    "            test_data[index] = 1\n",
    "\n",
    "disease_predict = rf_classifier.predict([test_data])\n",
    "prob = rf_classifier.predict_proba([test_data])\n",
    "print(disease_predict,prob)\n",
    "for i in range(0,len(prob[0])):\n",
    "    if prob[0][i] > 0.0:\n",
    "         print(rf_classifier.classes_[i],prob[0][i])"
   ]
  },
  {
   "cell_type": "code",
   "execution_count": 200,
   "metadata": {},
   "outputs": [],
   "source": [
    "import re, math\n",
    "from collections import Counter\n",
    "\n",
    "WORD = re.compile(r'\\w+') \n",
    "\n",
    "def get_cosine(vec1, vec2):\n",
    "    intersection = set(vec1.keys()) & set(vec2.keys())\n",
    "    numerator = sum([vec1[x] * vec2[x] for x in intersection])\n",
    "\n",
    "    sum1 = sum([vec1[x]**2 for x in vec1.keys()])\n",
    "    sum2 = sum([vec2[x]**2 for x in vec2.keys()])\n",
    "    denominator = math.sqrt(sum1) * math.sqrt(sum2)\n",
    "    if not denominator:\n",
    "        return 0.0\n",
    "    else:\n",
    "        return float(numerator) / denominator\n",
    "\n",
    "def text_to_vector(text):\n",
    "    words = WORD.findall(text)\n",
    "    return Counter(words)"
   ]
  }
 ],
 "metadata": {
  "kernelspec": {
   "display_name": "Python 3",
   "language": "python",
   "name": "python3"
  },
  "language_info": {
   "codemirror_mode": {
    "name": "ipython",
    "version": 3
   },
   "file_extension": ".py",
   "mimetype": "text/x-python",
   "name": "python",
   "nbconvert_exporter": "python",
   "pygments_lexer": "ipython3",
   "version": "3.7.3"
  }
 },
 "nbformat": 4,
 "nbformat_minor": 2
}
