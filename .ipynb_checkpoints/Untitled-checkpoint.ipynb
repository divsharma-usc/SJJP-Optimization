{
 "cells": [
  {
   "cell_type": "code",
   "execution_count": 103,
   "metadata": {},
   "outputs": [],
   "source": [
    "import sys\n",
    "import random\n",
    "INT_MAX = sys.maxsize"
   ]
  },
  {
   "cell_type": "code",
   "execution_count": 204,
   "metadata": {},
   "outputs": [
    {
     "name": "stdout",
     "output_type": "stream",
     "text": [
      "Enter the number of jobs : 3\n",
      "Enter the number of machines : 2\n",
      "Enter the processing time matrix : 2 3 4 5 6 7\n",
      "Enter the ordering matrix : 1 2 2 1 1 2\n",
      "\n",
      "----- PROCESSING MATRIX -----\n",
      "[[2, 3], [4, 5], [6, 7]]\n",
      "\n",
      "----- ODERING MATRIX -----\n",
      "[[1, 2], [2, 1], [1, 2]]\n",
      "\n",
      "[[0, 0, 0], [0, 1, 1], [0, 2, 0]]\n",
      "[[0, 0, 0], [0, 1, 1], [0, 2, 0]]\n"
     ]
    }
   ],
   "source": [
    "n = int(input('Enter the number of jobs : '))\n",
    "m = int(input('Enter the number of machines : '))\n",
    "processing_time_matrix = []\n",
    "ordering_matrix = []\n",
    "\n",
    "ptm = input('Enter the processing time matrix : ')\n",
    "om = input('Enter the ordering matrix : ')\n",
    "\n",
    "#IMPLEMENTING G&T ALGORITHM\n",
    "\n",
    "ptm = ptm.split(' ')\n",
    "om = om.split(' ')\n",
    "\n",
    "k=0\n",
    "for i in range(0,n):\n",
    "    temp = []\n",
    "    for j in range(0,m):\n",
    "        processing_time = int(ptm[k])\n",
    "        temp.append(processing_time)\n",
    "        k=k+1\n",
    "    processing_time_matrix.append(temp)\n",
    "\n",
    "k=0\n",
    "for i in range(0,n):\n",
    "    temp = []\n",
    "    for j in range(0,m):\n",
    "        order = int(om[k])\n",
    "        temp.append(order)\n",
    "        k=k+1\n",
    "    ordering_matrix.append(temp)\n",
    "\n",
    "print()\n",
    "print('----- PROCESSING MATRIX -----')\n",
    "print(processing_time_matrix)\n",
    "\n",
    "print()\n",
    "print('----- ODERING MATRIX -----')\n",
    "print(ordering_matrix)\n",
    "\n",
    "#STEP 1\n",
    "set_A = []\n",
    "for i in range(0,n):\n",
    "    for j in range(0,m):\n",
    "        if ordering_matrix[i][j] == 1:\n",
    "            set_A.append([0,i,j])\n",
    "print()\n",
    "print(set_A)"
   ]
  },
  {
   "cell_type": "code",
   "execution_count": 205,
   "metadata": {},
   "outputs": [
    {
     "name": "stdout",
     "output_type": "stream",
     "text": [
      "[[0, 0, 0], [0, 1, 1], [0, 2, 0]]\n",
      "hello\n",
      "1\n",
      "hello\n",
      "0\n",
      "hello\n",
      "0\n",
      "hello\n",
      "0\n",
      "hello\n",
      "0\n"
     ]
    },
    {
     "ename": "IndexError",
     "evalue": "list index out of range",
     "output_type": "error",
     "traceback": [
      "\u001b[0;31m---------------------------------------------------------------------------\u001b[0m",
      "\u001b[0;31mIndexError\u001b[0m                                Traceback (most recent call last)",
      "\u001b[0;32m<ipython-input-205-4bcc7b62c67d>\u001b[0m in \u001b[0;36m<module>\u001b[0;34m\u001b[0m\n\u001b[1;32m     45\u001b[0m \u001b[0;34m\u001b[0m\u001b[0m\n\u001b[1;32m     46\u001b[0m     \u001b[0mS\u001b[0m\u001b[0;34m.\u001b[0m\u001b[0mappend\u001b[0m\u001b[0;34m(\u001b[0m\u001b[0mmachine\u001b[0m\u001b[0;34m)\u001b[0m\u001b[0;34m\u001b[0m\u001b[0;34m\u001b[0m\u001b[0m\n\u001b[0;32m---> 47\u001b[0;31m     \u001b[0mcurr_time\u001b[0m \u001b[0;34m=\u001b[0m \u001b[0mcurr_time\u001b[0m \u001b[0;34m+\u001b[0m \u001b[0mprocessing_time_matrix\u001b[0m\u001b[0;34m[\u001b[0m\u001b[0melement\u001b[0m\u001b[0;34m[\u001b[0m\u001b[0;36m1\u001b[0m\u001b[0;34m]\u001b[0m\u001b[0;34m]\u001b[0m\u001b[0;34m[\u001b[0m\u001b[0mrandom_machine\u001b[0m\u001b[0;34m]\u001b[0m\u001b[0;34m\u001b[0m\u001b[0;34m\u001b[0m\u001b[0m\n\u001b[0m\u001b[1;32m     48\u001b[0m     \u001b[0mnext_order_number\u001b[0m \u001b[0;34m=\u001b[0m \u001b[0mordering_matrix\u001b[0m\u001b[0;34m[\u001b[0m\u001b[0melement\u001b[0m\u001b[0;34m[\u001b[0m\u001b[0;36m1\u001b[0m\u001b[0;34m]\u001b[0m\u001b[0;34m]\u001b[0m\u001b[0;34m[\u001b[0m\u001b[0mrandom_machine\u001b[0m\u001b[0;34m]\u001b[0m\u001b[0;34m+\u001b[0m\u001b[0;36m1\u001b[0m\u001b[0;34m\u001b[0m\u001b[0;34m\u001b[0m\u001b[0m\n\u001b[1;32m     49\u001b[0m \u001b[0;34m\u001b[0m\u001b[0m\n",
      "\u001b[0;31mIndexError\u001b[0m: list index out of range"
     ]
    }
   ],
   "source": [
    "S= []\n",
    "curr_time = 0\n",
    "print(set_A)\n",
    "while len(set_A) != 0:\n",
    "    #STEP 2\n",
    "    print('hello')\n",
    "    length_A = len(set_A)\n",
    "    min_value = INT_MAX\n",
    "    for i in range(0,length_A):\n",
    "        a = set_A[i][1]\n",
    "        b = set_A[i][2]\n",
    "        processing_time = processing_time_matrix[a][b]\n",
    "        if set_A[i][0] + processing_time < min_value:\n",
    "            min_value = set_A[i][0] + processing_time\n",
    "    #STEP 3\n",
    "    M = []\n",
    "    for i in range(0,length_A):\n",
    "        if set_A[i][0] < min_value:\n",
    "            M.append(set_A[i][2])\n",
    "    #STEP 4\n",
    "    G = []\n",
    "    set_machines = set(M)\n",
    "    random_machine = random.randint(0,len(set_machines)-1)\n",
    "    print(random_machine)\n",
    "    for i in range(0,length_A):\n",
    "        if set_A[i][2] == random_machine:\n",
    "            G.append(set_A[i])\n",
    "            \n",
    "    #STEP 5\n",
    "    length_G = len(G)\n",
    "    max_earlist_time = 0\n",
    "    element = []\n",
    "    for i in range(0,length_G):\n",
    "        if G[i][2] == random_machine:\n",
    "            earlist_time = 0\n",
    "            b = random_machine\n",
    "            a = G[i][1]\n",
    "            order_number = ordering_matrix[a][b]\n",
    "            for j in range(0,m):\n",
    "                if ordering_matrix[a][j] >= order_number:\n",
    "                    earlist_time = earlist_time + processing_time_matrix[a][j]\n",
    "            if earlist_time > max_earlist_time:\n",
    "                max_earlist_time = earlist_time\n",
    "                element = G[i]\n",
    "            \n",
    "    S.append(machine)\n",
    "    curr_time = curr_time + processing_time_matrix[element[1]][random_machine]\n",
    "    next_order_number = ordering_matrix[element[1]][random_machine]+1\n",
    "\n",
    "    for k in range(0,m):\n",
    "        if ordering_matrix[element[1]][k] == next_order_number:\n",
    "            set_A.append([curr_time,element[1],k])\n",
    "    set_A.remove(element)\n",
    "    G.remove(element)\n",
    "print(S)"
   ]
  }
 ],
 "metadata": {
  "kernelspec": {
   "display_name": "Python 3",
   "language": "python",
   "name": "python3"
  },
  "language_info": {
   "codemirror_mode": {
    "name": "ipython",
    "version": 3
   },
   "file_extension": ".py",
   "mimetype": "text/x-python",
   "name": "python",
   "nbconvert_exporter": "python",
   "pygments_lexer": "ipython3",
   "version": "3.7.3"
  }
 },
 "nbformat": 4,
 "nbformat_minor": 2
}
